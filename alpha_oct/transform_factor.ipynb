{
 "cells": [
  {
   "cell_type": "markdown",
   "metadata": {},
   "source": [
    "## 尝试改变因子的分布来增强因子效果"
   ]
  },
  {
   "cell_type": "code",
   "execution_count": 1,
   "metadata": {},
   "outputs": [
    {
     "name": "stderr",
     "output_type": "stream",
     "text": [
      "/mnt/datadisk2/aglv/anaconda3/lib/python3.8/site-packages/tqdm/std.py:668: FutureWarning: The Panel class is removed from pandas. Accessing it from the top-level namespace will also be removed in the next version\n",
      "  from pandas import Panel\n"
     ]
    }
   ],
   "source": [
    "import pandas as pd\n",
    "import numpy as np\n",
    "from tqdm import tqdm\n",
    "tqdm.pandas()\n",
    "import matplotlib.pyplot as plt"
   ]
  },
  {
   "cell_type": "code",
   "execution_count": 2,
   "metadata": {},
   "outputs": [
    {
     "name": "stdout",
     "output_type": "stream",
     "text": [
      "/mnt/datadisk2/aglv/aglv/lab_aglv/forintern\n"
     ]
    }
   ],
   "source": [
    "cd /mnt/datadisk2/aglv/aglv/lab_aglv/forintern/"
   ]
  },
  {
   "cell_type": "code",
   "execution_count": 3,
   "metadata": {},
   "outputs": [
    {
     "name": "stdout",
     "output_type": "stream",
     "text": [
      "load ./data_daily.h5...\n"
     ]
    }
   ],
   "source": [
    "from DataDaily import DataDaily\n",
    "datadaily = DataDaily()"
   ]
  },
  {
   "cell_type": "code",
   "execution_count": 19,
   "metadata": {},
   "outputs": [],
   "source": [
    "vol = datadaily.volume\n",
    "close = datadaily.adjclose\n",
    "ret = close.pct_change()"
   ]
  },
  {
   "cell_type": "code",
   "execution_count": 28,
   "metadata": {},
   "outputs": [],
   "source": [
    "r_win = 5\n",
    "\n",
    "buy_l_order = datadaily.buy_value_large_order.loc[20210101:20221231]\n",
    "sell_l_order = datadaily.sell_value_large_order.loc[20210101:20221231]\n",
    "buy_xl_order = datadaily.buy_value_exlarge_order.loc[20210101:20221231]\n",
    "sell_xl_order = datadaily.sell_value_exlarge_order.loc[20210101:20221231]\n",
    "\n",
    "buy_s_order = datadaily.buy_value_small_order.loc[20210101:20221231]\n",
    "sell_s_order = datadaily.sell_value_small_order.loc[20210101:20221231]\n",
    "\n",
    "buy_l_order_act = datadaily.buy_value_large_order_act.loc[20210101:20221231]\n",
    "buy_l_order_act_os = datadaily.buy_value_large_order_act.loc[20221231:20231231]\n",
    "sell_l_order_act = datadaily.sell_value_large_order_act.loc[20210101:20221231]\n",
    "buy_xl_order_act = datadaily.buy_value_exlarge_order_act.loc[20210101:20221231]\n",
    "sell_xl_order_act = datadaily.sell_value_exlarge_order_act.loc[20210101:20221231]\n",
    "\n",
    "buy_l_order_demean = buy_l_order / buy_l_order.rolling(r_win).mean()\n",
    "sell_l_order_demean = sell_l_order / sell_l_order.rolling(r_win).mean()\n",
    "buy_xl_order_demean = buy_xl_order / buy_xl_order.rolling(r_win).mean()\n",
    "sell_xl_order_demean = sell_xl_order / sell_xl_order.rolling(r_win).mean()\n",
    "\n",
    "buy_l_order_act_demean = buy_l_order_act / buy_l_order_act.rolling(r_win).mean()\n",
    "sell_l_order_act_demean = sell_l_order_act / sell_l_order_act.rolling(r_win).mean()\n",
    "buy_xl_order_act_demean = buy_xl_order_act / buy_xl_order_act.rolling(r_win).mean()\n",
    "sell_xl_order_act_demean = sell_xl_order_act / sell_xl_order_act.rolling(r_win).mean()\n",
    "\n",
    "buy_l_s_ratio = buy_l_order / buy_s_order\n",
    "sell_l_s_ratio = sell_l_order / sell_s_order"
   ]
  },
  {
   "cell_type": "code",
   "execution_count": 5,
   "metadata": {},
   "outputs": [],
   "source": [
    "factor_path = '/mnt/datadisk2/aglv/aglv/aglv_factor/fa_transform/'"
   ]
  },
  {
   "cell_type": "code",
   "execution_count": 6,
   "metadata": {},
   "outputs": [],
   "source": [
    "fa = pd.read_csv('/mnt/datadisk2/aglv/aglv/aglv_factor/bs_book/exce_buy_l_order.csv').set_index('date')"
   ]
  },
  {
   "cell_type": "code",
   "execution_count": 9,
   "metadata": {},
   "outputs": [
    {
     "data": {
      "text/plain": [
       "date\n",
       "20210104    5644\n",
       "20210105    1525\n",
       "20210106    1526\n",
       "20210107    1522\n",
       "20210108    1517\n",
       "            ... \n",
       "20231225     563\n",
       "20231226     562\n",
       "20231227     558\n",
       "20231228     560\n",
       "20231229     560\n",
       "Length: 727, dtype: int64"
      ]
     },
     "execution_count": 9,
     "metadata": {},
     "output_type": "execute_result"
    }
   ],
   "source": [
    "fa.isna().sum(axis=1)"
   ]
  },
  {
   "cell_type": "code",
   "execution_count": 24,
   "metadata": {},
   "outputs": [
    {
     "data": {
      "text/plain": [
       "date\n",
       "20210104            NaN\n",
       "20210105   -2784.671507\n",
       "20210106    6856.429258\n",
       "20210107   -1568.276589\n",
       "20210108   -4413.890250\n",
       "               ...     \n",
       "20231225    -237.997635\n",
       "20231226     682.390645\n",
       "20231227    -334.329926\n",
       "20231228     105.827329\n",
       "20231229    -338.719009\n",
       "Name: SH600000, Length: 727, dtype: float64"
      ]
     },
     "execution_count": 24,
     "metadata": {},
     "output_type": "execute_result"
    }
   ],
   "source": [
    "fa['SH600000']"
   ]
  },
  {
   "cell_type": "code",
   "execution_count": 9,
   "metadata": {},
   "outputs": [
    {
     "data": {
      "text/plain": [
       "date\n",
       "20210104           NaN\n",
       "20210105     17.053442\n",
       "20210106    324.467973\n",
       "20210107     84.441715\n",
       "20210108    -76.467465\n",
       "               ...    \n",
       "20231225    -91.159320\n",
       "20231226     -2.903270\n",
       "20231227    128.768691\n",
       "20231228    441.894209\n",
       "20231229     55.277312\n",
       "Length: 727, dtype: float64"
      ]
     },
     "execution_count": 9,
     "metadata": {},
     "output_type": "execute_result"
    }
   ],
   "source": [
    "fa.mean(axis=1)"
   ]
  },
  {
   "cell_type": "code",
   "execution_count": 8,
   "metadata": {},
   "outputs": [
    {
     "data": {
      "text/html": [
       "<div>\n",
       "<style scoped>\n",
       "    .dataframe tbody tr th:only-of-type {\n",
       "        vertical-align: middle;\n",
       "    }\n",
       "\n",
       "    .dataframe tbody tr th {\n",
       "        vertical-align: top;\n",
       "    }\n",
       "\n",
       "    .dataframe thead th {\n",
       "        text-align: right;\n",
       "    }\n",
       "</style>\n",
       "<table border=\"1\" class=\"dataframe\">\n",
       "  <thead>\n",
       "    <tr style=\"text-align: right;\">\n",
       "      <th></th>\n",
       "      <th>BJ430017</th>\n",
       "      <th>BJ430047</th>\n",
       "      <th>BJ430090</th>\n",
       "      <th>BJ430139</th>\n",
       "      <th>BJ430198</th>\n",
       "      <th>BJ430300</th>\n",
       "      <th>BJ430418</th>\n",
       "      <th>BJ430425</th>\n",
       "      <th>BJ430476</th>\n",
       "      <th>BJ430478</th>\n",
       "      <th>...</th>\n",
       "      <th>SZ301596</th>\n",
       "      <th>SZ301600</th>\n",
       "      <th>SZ301603</th>\n",
       "      <th>SZ301606</th>\n",
       "      <th>SZ301607</th>\n",
       "      <th>SZ301608</th>\n",
       "      <th>SZ301611</th>\n",
       "      <th>SZ301613</th>\n",
       "      <th>SZ301618</th>\n",
       "      <th>SZ301626</th>\n",
       "    </tr>\n",
       "    <tr>\n",
       "      <th>date</th>\n",
       "      <th></th>\n",
       "      <th></th>\n",
       "      <th></th>\n",
       "      <th></th>\n",
       "      <th></th>\n",
       "      <th></th>\n",
       "      <th></th>\n",
       "      <th></th>\n",
       "      <th></th>\n",
       "      <th></th>\n",
       "      <th></th>\n",
       "      <th></th>\n",
       "      <th></th>\n",
       "      <th></th>\n",
       "      <th></th>\n",
       "      <th></th>\n",
       "      <th></th>\n",
       "      <th></th>\n",
       "      <th></th>\n",
       "      <th></th>\n",
       "      <th></th>\n",
       "    </tr>\n",
       "  </thead>\n",
       "  <tbody>\n",
       "    <tr>\n",
       "      <th>20210104</th>\n",
       "      <td>NaN</td>\n",
       "      <td>NaN</td>\n",
       "      <td>NaN</td>\n",
       "      <td>NaN</td>\n",
       "      <td>NaN</td>\n",
       "      <td>NaN</td>\n",
       "      <td>NaN</td>\n",
       "      <td>NaN</td>\n",
       "      <td>NaN</td>\n",
       "      <td>NaN</td>\n",
       "      <td>...</td>\n",
       "      <td>NaN</td>\n",
       "      <td>NaN</td>\n",
       "      <td>NaN</td>\n",
       "      <td>NaN</td>\n",
       "      <td>NaN</td>\n",
       "      <td>NaN</td>\n",
       "      <td>NaN</td>\n",
       "      <td>NaN</td>\n",
       "      <td>NaN</td>\n",
       "      <td>NaN</td>\n",
       "    </tr>\n",
       "    <tr>\n",
       "      <th>20210105</th>\n",
       "      <td>NaN</td>\n",
       "      <td>NaN</td>\n",
       "      <td>NaN</td>\n",
       "      <td>NaN</td>\n",
       "      <td>NaN</td>\n",
       "      <td>NaN</td>\n",
       "      <td>NaN</td>\n",
       "      <td>NaN</td>\n",
       "      <td>NaN</td>\n",
       "      <td>NaN</td>\n",
       "      <td>...</td>\n",
       "      <td>NaN</td>\n",
       "      <td>NaN</td>\n",
       "      <td>NaN</td>\n",
       "      <td>NaN</td>\n",
       "      <td>NaN</td>\n",
       "      <td>NaN</td>\n",
       "      <td>NaN</td>\n",
       "      <td>NaN</td>\n",
       "      <td>NaN</td>\n",
       "      <td>NaN</td>\n",
       "    </tr>\n",
       "    <tr>\n",
       "      <th>20210106</th>\n",
       "      <td>NaN</td>\n",
       "      <td>NaN</td>\n",
       "      <td>NaN</td>\n",
       "      <td>NaN</td>\n",
       "      <td>NaN</td>\n",
       "      <td>NaN</td>\n",
       "      <td>NaN</td>\n",
       "      <td>NaN</td>\n",
       "      <td>NaN</td>\n",
       "      <td>NaN</td>\n",
       "      <td>...</td>\n",
       "      <td>NaN</td>\n",
       "      <td>NaN</td>\n",
       "      <td>NaN</td>\n",
       "      <td>NaN</td>\n",
       "      <td>NaN</td>\n",
       "      <td>NaN</td>\n",
       "      <td>NaN</td>\n",
       "      <td>NaN</td>\n",
       "      <td>NaN</td>\n",
       "      <td>NaN</td>\n",
       "    </tr>\n",
       "    <tr>\n",
       "      <th>20210107</th>\n",
       "      <td>NaN</td>\n",
       "      <td>NaN</td>\n",
       "      <td>NaN</td>\n",
       "      <td>NaN</td>\n",
       "      <td>NaN</td>\n",
       "      <td>NaN</td>\n",
       "      <td>NaN</td>\n",
       "      <td>NaN</td>\n",
       "      <td>NaN</td>\n",
       "      <td>NaN</td>\n",
       "      <td>...</td>\n",
       "      <td>NaN</td>\n",
       "      <td>NaN</td>\n",
       "      <td>NaN</td>\n",
       "      <td>NaN</td>\n",
       "      <td>NaN</td>\n",
       "      <td>NaN</td>\n",
       "      <td>NaN</td>\n",
       "      <td>NaN</td>\n",
       "      <td>NaN</td>\n",
       "      <td>NaN</td>\n",
       "    </tr>\n",
       "    <tr>\n",
       "      <th>20210108</th>\n",
       "      <td>NaN</td>\n",
       "      <td>NaN</td>\n",
       "      <td>NaN</td>\n",
       "      <td>NaN</td>\n",
       "      <td>NaN</td>\n",
       "      <td>NaN</td>\n",
       "      <td>NaN</td>\n",
       "      <td>NaN</td>\n",
       "      <td>NaN</td>\n",
       "      <td>NaN</td>\n",
       "      <td>...</td>\n",
       "      <td>NaN</td>\n",
       "      <td>NaN</td>\n",
       "      <td>NaN</td>\n",
       "      <td>NaN</td>\n",
       "      <td>NaN</td>\n",
       "      <td>NaN</td>\n",
       "      <td>NaN</td>\n",
       "      <td>NaN</td>\n",
       "      <td>NaN</td>\n",
       "      <td>NaN</td>\n",
       "    </tr>\n",
       "    <tr>\n",
       "      <th>...</th>\n",
       "      <td>...</td>\n",
       "      <td>...</td>\n",
       "      <td>...</td>\n",
       "      <td>...</td>\n",
       "      <td>...</td>\n",
       "      <td>...</td>\n",
       "      <td>...</td>\n",
       "      <td>...</td>\n",
       "      <td>...</td>\n",
       "      <td>...</td>\n",
       "      <td>...</td>\n",
       "      <td>...</td>\n",
       "      <td>...</td>\n",
       "      <td>...</td>\n",
       "      <td>...</td>\n",
       "      <td>...</td>\n",
       "      <td>...</td>\n",
       "      <td>...</td>\n",
       "      <td>...</td>\n",
       "      <td>...</td>\n",
       "      <td>...</td>\n",
       "    </tr>\n",
       "    <tr>\n",
       "      <th>20231225</th>\n",
       "      <td>NaN</td>\n",
       "      <td>NaN</td>\n",
       "      <td>NaN</td>\n",
       "      <td>NaN</td>\n",
       "      <td>NaN</td>\n",
       "      <td>NaN</td>\n",
       "      <td>NaN</td>\n",
       "      <td>NaN</td>\n",
       "      <td>NaN</td>\n",
       "      <td>NaN</td>\n",
       "      <td>...</td>\n",
       "      <td>NaN</td>\n",
       "      <td>NaN</td>\n",
       "      <td>NaN</td>\n",
       "      <td>NaN</td>\n",
       "      <td>NaN</td>\n",
       "      <td>NaN</td>\n",
       "      <td>NaN</td>\n",
       "      <td>NaN</td>\n",
       "      <td>NaN</td>\n",
       "      <td>NaN</td>\n",
       "    </tr>\n",
       "    <tr>\n",
       "      <th>20231226</th>\n",
       "      <td>NaN</td>\n",
       "      <td>NaN</td>\n",
       "      <td>NaN</td>\n",
       "      <td>NaN</td>\n",
       "      <td>NaN</td>\n",
       "      <td>NaN</td>\n",
       "      <td>NaN</td>\n",
       "      <td>NaN</td>\n",
       "      <td>NaN</td>\n",
       "      <td>NaN</td>\n",
       "      <td>...</td>\n",
       "      <td>NaN</td>\n",
       "      <td>NaN</td>\n",
       "      <td>NaN</td>\n",
       "      <td>NaN</td>\n",
       "      <td>NaN</td>\n",
       "      <td>NaN</td>\n",
       "      <td>NaN</td>\n",
       "      <td>NaN</td>\n",
       "      <td>NaN</td>\n",
       "      <td>NaN</td>\n",
       "    </tr>\n",
       "    <tr>\n",
       "      <th>20231227</th>\n",
       "      <td>NaN</td>\n",
       "      <td>NaN</td>\n",
       "      <td>NaN</td>\n",
       "      <td>NaN</td>\n",
       "      <td>NaN</td>\n",
       "      <td>NaN</td>\n",
       "      <td>NaN</td>\n",
       "      <td>NaN</td>\n",
       "      <td>NaN</td>\n",
       "      <td>NaN</td>\n",
       "      <td>...</td>\n",
       "      <td>NaN</td>\n",
       "      <td>NaN</td>\n",
       "      <td>NaN</td>\n",
       "      <td>NaN</td>\n",
       "      <td>NaN</td>\n",
       "      <td>NaN</td>\n",
       "      <td>NaN</td>\n",
       "      <td>NaN</td>\n",
       "      <td>NaN</td>\n",
       "      <td>NaN</td>\n",
       "    </tr>\n",
       "    <tr>\n",
       "      <th>20231228</th>\n",
       "      <td>NaN</td>\n",
       "      <td>NaN</td>\n",
       "      <td>NaN</td>\n",
       "      <td>NaN</td>\n",
       "      <td>NaN</td>\n",
       "      <td>NaN</td>\n",
       "      <td>NaN</td>\n",
       "      <td>NaN</td>\n",
       "      <td>NaN</td>\n",
       "      <td>NaN</td>\n",
       "      <td>...</td>\n",
       "      <td>NaN</td>\n",
       "      <td>NaN</td>\n",
       "      <td>NaN</td>\n",
       "      <td>NaN</td>\n",
       "      <td>NaN</td>\n",
       "      <td>NaN</td>\n",
       "      <td>NaN</td>\n",
       "      <td>NaN</td>\n",
       "      <td>NaN</td>\n",
       "      <td>NaN</td>\n",
       "    </tr>\n",
       "    <tr>\n",
       "      <th>20231229</th>\n",
       "      <td>NaN</td>\n",
       "      <td>NaN</td>\n",
       "      <td>NaN</td>\n",
       "      <td>NaN</td>\n",
       "      <td>NaN</td>\n",
       "      <td>NaN</td>\n",
       "      <td>NaN</td>\n",
       "      <td>NaN</td>\n",
       "      <td>NaN</td>\n",
       "      <td>NaN</td>\n",
       "      <td>...</td>\n",
       "      <td>NaN</td>\n",
       "      <td>NaN</td>\n",
       "      <td>NaN</td>\n",
       "      <td>NaN</td>\n",
       "      <td>NaN</td>\n",
       "      <td>NaN</td>\n",
       "      <td>NaN</td>\n",
       "      <td>NaN</td>\n",
       "      <td>NaN</td>\n",
       "      <td>NaN</td>\n",
       "    </tr>\n",
       "  </tbody>\n",
       "</table>\n",
       "<p>727 rows × 5647 columns</p>\n",
       "</div>"
      ],
      "text/plain": [
       "          BJ430017  BJ430047  BJ430090  BJ430139  BJ430198  BJ430300  \\\n",
       "date                                                                   \n",
       "20210104       NaN       NaN       NaN       NaN       NaN       NaN   \n",
       "20210105       NaN       NaN       NaN       NaN       NaN       NaN   \n",
       "20210106       NaN       NaN       NaN       NaN       NaN       NaN   \n",
       "20210107       NaN       NaN       NaN       NaN       NaN       NaN   \n",
       "20210108       NaN       NaN       NaN       NaN       NaN       NaN   \n",
       "...            ...       ...       ...       ...       ...       ...   \n",
       "20231225       NaN       NaN       NaN       NaN       NaN       NaN   \n",
       "20231226       NaN       NaN       NaN       NaN       NaN       NaN   \n",
       "20231227       NaN       NaN       NaN       NaN       NaN       NaN   \n",
       "20231228       NaN       NaN       NaN       NaN       NaN       NaN   \n",
       "20231229       NaN       NaN       NaN       NaN       NaN       NaN   \n",
       "\n",
       "          BJ430418  BJ430425  BJ430476  BJ430478  ...  SZ301596  SZ301600  \\\n",
       "date                                              ...                       \n",
       "20210104       NaN       NaN       NaN       NaN  ...       NaN       NaN   \n",
       "20210105       NaN       NaN       NaN       NaN  ...       NaN       NaN   \n",
       "20210106       NaN       NaN       NaN       NaN  ...       NaN       NaN   \n",
       "20210107       NaN       NaN       NaN       NaN  ...       NaN       NaN   \n",
       "20210108       NaN       NaN       NaN       NaN  ...       NaN       NaN   \n",
       "...            ...       ...       ...       ...  ...       ...       ...   \n",
       "20231225       NaN       NaN       NaN       NaN  ...       NaN       NaN   \n",
       "20231226       NaN       NaN       NaN       NaN  ...       NaN       NaN   \n",
       "20231227       NaN       NaN       NaN       NaN  ...       NaN       NaN   \n",
       "20231228       NaN       NaN       NaN       NaN  ...       NaN       NaN   \n",
       "20231229       NaN       NaN       NaN       NaN  ...       NaN       NaN   \n",
       "\n",
       "          SZ301603  SZ301606  SZ301607  SZ301608  SZ301611  SZ301613  \\\n",
       "date                                                                   \n",
       "20210104       NaN       NaN       NaN       NaN       NaN       NaN   \n",
       "20210105       NaN       NaN       NaN       NaN       NaN       NaN   \n",
       "20210106       NaN       NaN       NaN       NaN       NaN       NaN   \n",
       "20210107       NaN       NaN       NaN       NaN       NaN       NaN   \n",
       "20210108       NaN       NaN       NaN       NaN       NaN       NaN   \n",
       "...            ...       ...       ...       ...       ...       ...   \n",
       "20231225       NaN       NaN       NaN       NaN       NaN       NaN   \n",
       "20231226       NaN       NaN       NaN       NaN       NaN       NaN   \n",
       "20231227       NaN       NaN       NaN       NaN       NaN       NaN   \n",
       "20231228       NaN       NaN       NaN       NaN       NaN       NaN   \n",
       "20231229       NaN       NaN       NaN       NaN       NaN       NaN   \n",
       "\n",
       "          SZ301618  SZ301626  \n",
       "date                          \n",
       "20210104       NaN       NaN  \n",
       "20210105       NaN       NaN  \n",
       "20210106       NaN       NaN  \n",
       "20210107       NaN       NaN  \n",
       "20210108       NaN       NaN  \n",
       "...            ...       ...  \n",
       "20231225       NaN       NaN  \n",
       "20231226       NaN       NaN  \n",
       "20231227       NaN       NaN  \n",
       "20231228       NaN       NaN  \n",
       "20231229       NaN       NaN  \n",
       "\n",
       "[727 rows x 5647 columns]"
      ]
     },
     "execution_count": 8,
     "metadata": {},
     "output_type": "execute_result"
    }
   ],
   "source": [
    "fa4 = pd.read_csv(factor_path + 'exce_buy_l_per.csv').set_index('date')\n",
    "fa4"
   ]
  },
  {
   "cell_type": "code",
   "execution_count": 9,
   "metadata": {},
   "outputs": [
    {
     "data": {
      "text/plain": [
       "date\n",
       "20210104         NaN\n",
       "20210105    0.139508\n",
       "20210106    0.551420\n",
       "20210107    0.268094\n",
       "20210108    0.091843\n",
       "              ...   \n",
       "20231225    0.308768\n",
       "20231226    0.462635\n",
       "20231227    0.483742\n",
       "20231228    1.504017\n",
       "20231229    0.509065\n",
       "Length: 727, dtype: float64"
      ]
     },
     "execution_count": 9,
     "metadata": {},
     "output_type": "execute_result"
    }
   ],
   "source": [
    "fa4 = fa4.replace(np.inf, np.nan)\n",
    "fa4.mean(axis=1)"
   ]
  },
  {
   "cell_type": "code",
   "execution_count": 20,
   "metadata": {},
   "outputs": [
    {
     "data": {
      "text/plain": [
       "(575, 3503, 0.5514195783799158, 0.0003558799947371294)"
      ]
     },
     "execution_count": 20,
     "metadata": {},
     "output_type": "execute_result"
    }
   ],
   "source": [
    "eg = fa4.iloc[2, :]\n",
    "(eg > eg.mean()).sum(), (eg < eg.mean()).sum(), eg.mean(), eg.median()"
   ]
  },
  {
   "cell_type": "code",
   "execution_count": 17,
   "metadata": {},
   "outputs": [],
   "source": [
    "fa5 = fa4.apply(lambda x: np.where(x > x.mean(), x, np.nan))"
   ]
  },
  {
   "cell_type": "code",
   "execution_count": 18,
   "metadata": {},
   "outputs": [
    {
     "data": {
      "text/plain": [
       "date\n",
       "20210104         NaN\n",
       "20210105    1.192367\n",
       "20210106    2.417059\n",
       "20210107    1.620113\n",
       "20210108    0.789322\n",
       "              ...   \n",
       "20231225    2.019023\n",
       "20231226    2.007097\n",
       "20231227    1.760798\n",
       "20231228    3.197180\n",
       "20231229    2.143083\n",
       "Length: 727, dtype: float64"
      ]
     },
     "execution_count": 18,
     "metadata": {},
     "output_type": "execute_result"
    }
   ],
   "source": [
    "fa5.mean(axis=1)"
   ]
  },
  {
   "cell_type": "code",
   "execution_count": 67,
   "metadata": {},
   "outputs": [],
   "source": [
    "fa5.to_csv(factor_path + 'exce_buy_l_per_overmean.csv')"
   ]
  },
  {
   "cell_type": "code",
   "execution_count": 21,
   "metadata": {},
   "outputs": [
    {
     "data": {
      "text/plain": [
       "<matplotlib.collections.PathCollection at 0x7ee553fc9ca0>"
      ]
     },
     "execution_count": 21,
     "metadata": {},
     "output_type": "execute_result"
    },
    {
     "data": {
      "image/png": "[encoded data removed]",
      "text/plain": [
       "<Figure size 432x288 with 1 Axes>"
      ]
     },
     "metadata": {
      "needs_background": "light"
     },
     "output_type": "display_data"
    }
   ],
   "source": [
    "plt.scatter(eg.index, eg.values)"
   ]
  },
  {
   "cell_type": "code",
   "execution_count": 14,
   "metadata": {},
   "outputs": [],
   "source": [
    "def factor_distribution_plot(data):\n",
    "    '''\n",
    "    将因子值二维数组转化为分布图形式\n",
    "    '''\n",
    "    import seaborn as sns\n",
    "\n",
    "    if len(data.shape) > 1:\n",
    "        data = data.stack()\n",
    "\n",
    "    plt.figure(figsize=(10, 6))\n",
    "\n",
    "    plt.hist(data, bins=30, density=True, alpha=0.6, color='skyblue', edgecolor='black', label='Histogram')\n",
    "    sns.kdeplot(data, color='red', label='KDE')\n",
    "\n",
    "    plt.title('Data Distribution')\n",
    "    plt.xlabel('Value')\n",
    "    plt.ylabel('Density')\n",
    "    plt.legend()\n",
    "\n",
    "    plt.show()\n"
   ]
  },
  {
   "cell_type": "code",
   "execution_count": 47,
   "metadata": {},
   "outputs": [],
   "source": [
    "def twist_factor(factor:pd.DataFrame):\n",
    "    factor = ((factor.T - factor.median(axis=1)) / (factor.std(axis=1) + 1e-10)).T\n",
    "    factor = factor.applymap(lambda x: x if x > 0 else -x)\n",
    "    factor = ((factor.T - factor.mean(axis=1)) / (factor.std(axis=1) + 1e-10)).T\n",
    "    return factor"
   ]
  },
  {
   "cell_type": "code",
   "execution_count": 22,
   "metadata": {},
   "outputs": [
    {
     "name": "stderr",
     "output_type": "stream",
     "text": [
      "/mnt/datadisk2/aglv/anaconda3/lib/python3.8/site-packages/numpy/lib/histograms.py:839: RuntimeWarning: invalid value encountered in greater_equal\n",
      "  keep = (tmp_a >= first_edge)\n",
      "/mnt/datadisk2/aglv/anaconda3/lib/python3.8/site-packages/numpy/lib/histograms.py:840: RuntimeWarning: invalid value encountered in less_equal\n",
      "  keep &= (tmp_a <= last_edge)\n"
     ]
    },
    {
     "data": {
      "image/png": "[encoded data removed]",
      "text/plain": [
       "<Figure size 720x432 with 1 Axes>"
      ]
     },
     "metadata": {
      "needs_background": "light"
     },
     "output_type": "display_data"
    },
    {
     "name": "stderr",
     "output_type": "stream",
     "text": [
      "/mnt/datadisk2/aglv/anaconda3/lib/python3.8/site-packages/pandas/core/series.py:679: RuntimeWarning: invalid value encountered in log\n",
      "  result = getattr(ufunc, method)(*inputs, **kwargs)\n",
      "/mnt/datadisk2/aglv/anaconda3/lib/python3.8/site-packages/numpy/lib/histograms.py:839: RuntimeWarning: invalid value encountered in greater_equal\n",
      "  keep = (tmp_a >= first_edge)\n",
      "/mnt/datadisk2/aglv/anaconda3/lib/python3.8/site-packages/numpy/lib/histograms.py:840: RuntimeWarning: invalid value encountered in less_equal\n",
      "  keep &= (tmp_a <= last_edge)\n"
     ]
    },
    {
     "data": {
      "image/png": "[encoded data removed]",
      "text/plain": [
       "<Figure size 720x432 with 1 Axes>"
      ]
     },
     "metadata": {
      "needs_background": "light"
     },
     "output_type": "display_data"
    },
    {
     "data": {
      "text/plain": [
       "(None, None)"
      ]
     },
     "execution_count": 22,
     "metadata": {},
     "output_type": "execute_result"
    }
   ],
   "source": [
    "factor_distribution_plot(fa4['SH600000']), factor_distribution_plot(np.log(fa4['SH600000']))"
   ]
  },
  {
   "cell_type": "code",
   "execution_count": 23,
   "metadata": {},
   "outputs": [
    {
     "name": "stderr",
     "output_type": "stream",
     "text": [
      "<ipython-input-23-ab742cebaf5e>:1: RuntimeWarning: invalid value encountered in log\n",
      "  (np.log(fa4)).to_csv(factor_path + 'exce_buy_l_per_log.csv')\n"
     ]
    }
   ],
   "source": [
    "(np.log(fa4)).to_csv(factor_path + 'exce_buy_l_per_log.csv')"
   ]
  },
  {
   "cell_type": "code",
   "execution_count": 97,
   "metadata": {},
   "outputs": [
    {
     "name": "stderr",
     "output_type": "stream",
     "text": [
      "/mnt/datadisk2/aglv/anaconda3/lib/python3.8/site-packages/numpy/lib/histograms.py:839: RuntimeWarning: invalid value encountered in greater_equal\n",
      "  keep = (tmp_a >= first_edge)\n",
      "/mnt/datadisk2/aglv/anaconda3/lib/python3.8/site-packages/numpy/lib/histograms.py:840: RuntimeWarning: invalid value encountered in less_equal\n",
      "  keep &= (tmp_a <= last_edge)\n"
     ]
    },
    {
     "data": {
      "image/png": "[encoded data removed]",
      "text/plain": [
       "<Figure size 720x432 with 1 Axes>"
      ]
     },
     "metadata": {
      "needs_background": "light"
     },
     "output_type": "display_data"
    },
    {
     "name": "stderr",
     "output_type": "stream",
     "text": [
      "/mnt/datadisk2/aglv/anaconda3/lib/python3.8/site-packages/numpy/lib/histograms.py:839: RuntimeWarning: invalid value encountered in greater_equal\n",
      "  keep = (tmp_a >= first_edge)\n",
      "/mnt/datadisk2/aglv/anaconda3/lib/python3.8/site-packages/numpy/lib/histograms.py:840: RuntimeWarning: invalid value encountered in less_equal\n",
      "  keep &= (tmp_a <= last_edge)\n"
     ]
    },
    {
     "data": {
      "image/png": "[encoded data removed]",
      "text/plain": [
       "<Figure size 720x432 with 1 Axes>"
      ]
     },
     "metadata": {
      "needs_background": "light"
     },
     "output_type": "display_data"
    },
    {
     "data": {
      "text/plain": [
       "(None, None)"
      ]
     },
     "execution_count": 97,
     "metadata": {},
     "output_type": "execute_result"
    }
   ],
   "source": [
    "i = 4\n",
    "factor_distribution_plot(fa.iloc[i, :]), factor_distribution_plot(np.log(fa.iloc[i, :].replace(0, np.nan).abs()))"
   ]
  },
  {
   "cell_type": "code",
   "execution_count": 13,
   "metadata": {},
   "outputs": [],
   "source": [
    "import seaborn as sns\n",
    "def factor_self_corr(factor:pd.DataFrame, gap=1, win=20):\n",
    "    if len(factor.shape) < 1:\n",
    "        if 'date' in factor.columns:\n",
    "            factor = factor.set_index('date')\n",
    "        elif 'Date' in factor.columns:\n",
    "            factor = factor.set_index('Date')\n",
    "    \n",
    "    factor.index = [str(i) for i in factor.index]\n",
    "\n",
    "    factor_corr = factor.rolling(win).apply(lambda x: x.corr(x.shift(-1)))\n",
    "\n",
    "    plt.figure(figsize=(12, 6))\n",
    "    plt.plot(factor_corr, color='#FF9999')\n",
    "    plt.tight_layout()\n",
    "    plt.xticks(ticks=range(0, len(factor_corr), max(1, len(factor_corr)//10)), \n",
    "               labels=factor_corr.index[::max(1, len(factor_corr)//10)], rotation=45)\n",
    "    plt.title(f'Factor Self-rolling{win}-shift{gap}-Corr')\n",
    "    plt.show()\n"
   ]
  },
  {
   "cell_type": "code",
   "execution_count": 49,
   "metadata": {},
   "outputs": [
    {
     "data": {
      "image/png": "[encoded data removed]",
      "text/plain": [
       "<Figure size 864x432 with 1 Axes>"
      ]
     },
     "metadata": {
      "needs_background": "light"
     },
     "output_type": "display_data"
    }
   ],
   "source": [
    "factor_self_corr(fa4['SH600000'])"
   ]
  },
  {
   "cell_type": "code",
   "execution_count": 47,
   "metadata": {},
   "outputs": [
    {
     "data": {
      "image/png": "[encoded data removed]",
      "text/plain": [
       "<Figure size 864x432 with 1 Axes>"
      ]
     },
     "metadata": {
      "needs_background": "light"
     },
     "output_type": "display_data"
    }
   ],
   "source": [
    "factor_self_corr(fa4['SH600000'] / fa4['SH600000'].rolling(3).mean())"
   ]
  },
  {
   "cell_type": "code",
   "execution_count": 12,
   "metadata": {},
   "outputs": [],
   "source": [
    "def factor_plot(factor:pd.DataFrame, gap=1, win=20):\n",
    "    if len(factor.shape) < 1:\n",
    "        if 'date' in factor.columns:\n",
    "            factor = factor.set_index('date')\n",
    "        elif 'Date' in factor.columns:\n",
    "            factor = factor.set_index('Date')\n",
    "    \n",
    "    factor.index = [str(i) for i in factor.index]\n",
    "\n",
    "    plt.figure(figsize=(12, 6))\n",
    "    plt.plot(factor, color='#FF9999')\n",
    "    plt.tight_layout()\n",
    "    plt.xticks(ticks=range(0, len(factor), max(1, len(factor)//10)), \n",
    "               labels=factor.index[::max(1, len(factor)//10)], rotation=45)\n",
    "    plt.title(f'Factor Plot')\n",
    "    plt.show()"
   ]
  },
  {
   "cell_type": "code",
   "execution_count": 34,
   "metadata": {},
   "outputs": [
    {
     "ename": "NameError",
     "evalue": "name 'factor_plot' is not defined",
     "output_type": "error",
     "traceback": [
      "\u001b[0;31m---------------------------------------------------------------------------\u001b[0m",
      "\u001b[0;31mNameError\u001b[0m                                 Traceback (most recent call last)",
      "\u001b[0;32m<ipython-input-34-8eeb2fca09a5>\u001b[0m in \u001b[0;36m<module>\u001b[0;34m\u001b[0m\n\u001b[0;32m----> 1\u001b[0;31m \u001b[0mfactor_plot\u001b[0m\u001b[0;34m(\u001b[0m\u001b[0mfa4\u001b[0m\u001b[0;34m[\u001b[0m\u001b[0;34m'SH600000'\u001b[0m\u001b[0;34m]\u001b[0m\u001b[0;34m)\u001b[0m\u001b[0;34m\u001b[0m\u001b[0;34m\u001b[0m\u001b[0m\n\u001b[0m",
      "\u001b[0;31mNameError\u001b[0m: name 'factor_plot' is not defined"
     ]
    }
   ],
   "source": [
    "factor_plot(fa4['SH600000'])"
   ]
  },
  {
   "cell_type": "code",
   "execution_count": 74,
   "metadata": {},
   "outputs": [],
   "source": [
    "def ic_plot(factor:pd.DataFrame, ret):\n",
    "    def get_ic_series(factor, ret):\n",
    "        u = list(set(factor.columns).intersection(set(ret.columns)))\n",
    "        ret = ret.loc[factor.index, u]\n",
    "        icall = pd.DataFrame()\n",
    "        fall = pd.merge(factor.stack(), ret.stack(), left_on=['date', 'InstrumentID'], right_on=['date', 'InstrumentID'])\n",
    "        icall = fall.groupby('date').apply(lambda x : x.corr()['ret']).reset_index()\n",
    "        icall = icall.dropna().drop(['ret'], axis=1).set_index('date')\n",
    "\n",
    "        return icall\n",
    "    \n",
    "    ic_f = get_ic_series(factor, ret)\n",
    "    ic_f.index = [str(i) for i in ic_f.index]\n",
    "    f_name = ic_f.columns[0]\n",
    "    fig = plt.figure(figsize=(12, 6))\n",
    "    ax = plt.axes()\n",
    "    xtick = np.arange(0, ic_f.shape[0], 20)\n",
    "    xtick_label = pd.Series(ic_f.index[xtick])\n",
    "    plt.bar(np.arange(ic_f.shape[0]), ic_f[f_name], color='darkred')\n",
    "    \n",
    "    ax1 = plt.twinx()\n",
    "    ax1.plot(np.arange(ic_f.shape[0], ic_f.cumsum(), color='orange'))\n",
    "\n",
    "    ax.set_xticks(xtick)\n",
    "    ax.set_yticks(xtick_label)\n",
    "\n",
    "    plt.show()"
   ]
  },
  {
   "cell_type": "code",
   "execution_count": 60,
   "metadata": {},
   "outputs": [
    {
     "data": {
      "text/html": [
       "<div>\n",
       "<style scoped>\n",
       "    .dataframe tbody tr th:only-of-type {\n",
       "        vertical-align: middle;\n",
       "    }\n",
       "\n",
       "    .dataframe tbody tr th {\n",
       "        vertical-align: top;\n",
       "    }\n",
       "\n",
       "    .dataframe thead th {\n",
       "        text-align: right;\n",
       "    }\n",
       "</style>\n",
       "<table border=\"1\" class=\"dataframe\">\n",
       "  <thead>\n",
       "    <tr style=\"text-align: right;\">\n",
       "      <th>InstrumentID</th>\n",
       "      <th>BJ430017</th>\n",
       "      <th>BJ430047</th>\n",
       "      <th>BJ430090</th>\n",
       "      <th>BJ430139</th>\n",
       "      <th>BJ430198</th>\n",
       "      <th>BJ430300</th>\n",
       "      <th>BJ430418</th>\n",
       "      <th>BJ430425</th>\n",
       "      <th>BJ430476</th>\n",
       "      <th>BJ430478</th>\n",
       "      <th>...</th>\n",
       "      <th>SZ301596</th>\n",
       "      <th>SZ301600</th>\n",
       "      <th>SZ301603</th>\n",
       "      <th>SZ301606</th>\n",
       "      <th>SZ301607</th>\n",
       "      <th>SZ301608</th>\n",
       "      <th>SZ301611</th>\n",
       "      <th>SZ301613</th>\n",
       "      <th>SZ301618</th>\n",
       "      <th>SZ301626</th>\n",
       "    </tr>\n",
       "    <tr>\n",
       "      <th>date</th>\n",
       "      <th></th>\n",
       "      <th></th>\n",
       "      <th></th>\n",
       "      <th></th>\n",
       "      <th></th>\n",
       "      <th></th>\n",
       "      <th></th>\n",
       "      <th></th>\n",
       "      <th></th>\n",
       "      <th></th>\n",
       "      <th></th>\n",
       "      <th></th>\n",
       "      <th></th>\n",
       "      <th></th>\n",
       "      <th></th>\n",
       "      <th></th>\n",
       "      <th></th>\n",
       "      <th></th>\n",
       "      <th></th>\n",
       "      <th></th>\n",
       "      <th></th>\n",
       "    </tr>\n",
       "  </thead>\n",
       "  <tbody>\n",
       "    <tr>\n",
       "      <th>20171009</th>\n",
       "      <td>NaN</td>\n",
       "      <td>NaN</td>\n",
       "      <td>NaN</td>\n",
       "      <td>NaN</td>\n",
       "      <td>NaN</td>\n",
       "      <td>NaN</td>\n",
       "      <td>NaN</td>\n",
       "      <td>NaN</td>\n",
       "      <td>NaN</td>\n",
       "      <td>NaN</td>\n",
       "      <td>...</td>\n",
       "      <td>NaN</td>\n",
       "      <td>NaN</td>\n",
       "      <td>NaN</td>\n",
       "      <td>NaN</td>\n",
       "      <td>NaN</td>\n",
       "      <td>NaN</td>\n",
       "      <td>NaN</td>\n",
       "      <td>NaN</td>\n",
       "      <td>NaN</td>\n",
       "      <td>NaN</td>\n",
       "    </tr>\n",
       "    <tr>\n",
       "      <th>20171010</th>\n",
       "      <td>NaN</td>\n",
       "      <td>NaN</td>\n",
       "      <td>NaN</td>\n",
       "      <td>NaN</td>\n",
       "      <td>NaN</td>\n",
       "      <td>NaN</td>\n",
       "      <td>NaN</td>\n",
       "      <td>NaN</td>\n",
       "      <td>NaN</td>\n",
       "      <td>NaN</td>\n",
       "      <td>...</td>\n",
       "      <td>NaN</td>\n",
       "      <td>NaN</td>\n",
       "      <td>NaN</td>\n",
       "      <td>NaN</td>\n",
       "      <td>NaN</td>\n",
       "      <td>NaN</td>\n",
       "      <td>NaN</td>\n",
       "      <td>NaN</td>\n",
       "      <td>NaN</td>\n",
       "      <td>NaN</td>\n",
       "    </tr>\n",
       "    <tr>\n",
       "      <th>20171011</th>\n",
       "      <td>NaN</td>\n",
       "      <td>NaN</td>\n",
       "      <td>NaN</td>\n",
       "      <td>NaN</td>\n",
       "      <td>NaN</td>\n",
       "      <td>NaN</td>\n",
       "      <td>NaN</td>\n",
       "      <td>NaN</td>\n",
       "      <td>NaN</td>\n",
       "      <td>NaN</td>\n",
       "      <td>...</td>\n",
       "      <td>NaN</td>\n",
       "      <td>NaN</td>\n",
       "      <td>NaN</td>\n",
       "      <td>NaN</td>\n",
       "      <td>NaN</td>\n",
       "      <td>NaN</td>\n",
       "      <td>NaN</td>\n",
       "      <td>NaN</td>\n",
       "      <td>NaN</td>\n",
       "      <td>NaN</td>\n",
       "    </tr>\n",
       "    <tr>\n",
       "      <th>20171012</th>\n",
       "      <td>NaN</td>\n",
       "      <td>NaN</td>\n",
       "      <td>NaN</td>\n",
       "      <td>NaN</td>\n",
       "      <td>NaN</td>\n",
       "      <td>NaN</td>\n",
       "      <td>NaN</td>\n",
       "      <td>NaN</td>\n",
       "      <td>NaN</td>\n",
       "      <td>NaN</td>\n",
       "      <td>...</td>\n",
       "      <td>NaN</td>\n",
       "      <td>NaN</td>\n",
       "      <td>NaN</td>\n",
       "      <td>NaN</td>\n",
       "      <td>NaN</td>\n",
       "      <td>NaN</td>\n",
       "      <td>NaN</td>\n",
       "      <td>NaN</td>\n",
       "      <td>NaN</td>\n",
       "      <td>NaN</td>\n",
       "    </tr>\n",
       "    <tr>\n",
       "      <th>20171013</th>\n",
       "      <td>NaN</td>\n",
       "      <td>NaN</td>\n",
       "      <td>NaN</td>\n",
       "      <td>NaN</td>\n",
       "      <td>NaN</td>\n",
       "      <td>NaN</td>\n",
       "      <td>NaN</td>\n",
       "      <td>NaN</td>\n",
       "      <td>NaN</td>\n",
       "      <td>NaN</td>\n",
       "      <td>...</td>\n",
       "      <td>NaN</td>\n",
       "      <td>NaN</td>\n",
       "      <td>NaN</td>\n",
       "      <td>NaN</td>\n",
       "      <td>NaN</td>\n",
       "      <td>NaN</td>\n",
       "      <td>NaN</td>\n",
       "      <td>NaN</td>\n",
       "      <td>NaN</td>\n",
       "      <td>NaN</td>\n",
       "    </tr>\n",
       "    <tr>\n",
       "      <th>...</th>\n",
       "      <td>...</td>\n",
       "      <td>...</td>\n",
       "      <td>...</td>\n",
       "      <td>...</td>\n",
       "      <td>...</td>\n",
       "      <td>...</td>\n",
       "      <td>...</td>\n",
       "      <td>...</td>\n",
       "      <td>...</td>\n",
       "      <td>...</td>\n",
       "      <td>...</td>\n",
       "      <td>...</td>\n",
       "      <td>...</td>\n",
       "      <td>...</td>\n",
       "      <td>...</td>\n",
       "      <td>...</td>\n",
       "      <td>...</td>\n",
       "      <td>...</td>\n",
       "      <td>...</td>\n",
       "      <td>...</td>\n",
       "      <td>...</td>\n",
       "    </tr>\n",
       "    <tr>\n",
       "      <th>20241022</th>\n",
       "      <td>0.0</td>\n",
       "      <td>0.0</td>\n",
       "      <td>0.0</td>\n",
       "      <td>0.0</td>\n",
       "      <td>0.0</td>\n",
       "      <td>0.0</td>\n",
       "      <td>0.0</td>\n",
       "      <td>0.0</td>\n",
       "      <td>0.0</td>\n",
       "      <td>0.0</td>\n",
       "      <td>...</td>\n",
       "      <td>0.053316</td>\n",
       "      <td>0.014305</td>\n",
       "      <td>0.012610</td>\n",
       "      <td>-0.017768</td>\n",
       "      <td>-0.045141</td>\n",
       "      <td>-0.002174</td>\n",
       "      <td>0.035220</td>\n",
       "      <td>NaN</td>\n",
       "      <td>0.033158</td>\n",
       "      <td>NaN</td>\n",
       "    </tr>\n",
       "    <tr>\n",
       "      <th>20241023</th>\n",
       "      <td>0.0</td>\n",
       "      <td>0.0</td>\n",
       "      <td>0.0</td>\n",
       "      <td>0.0</td>\n",
       "      <td>0.0</td>\n",
       "      <td>0.0</td>\n",
       "      <td>0.0</td>\n",
       "      <td>0.0</td>\n",
       "      <td>0.0</td>\n",
       "      <td>0.0</td>\n",
       "      <td>...</td>\n",
       "      <td>-0.042383</td>\n",
       "      <td>0.044325</td>\n",
       "      <td>-0.034403</td>\n",
       "      <td>-0.029395</td>\n",
       "      <td>-0.016302</td>\n",
       "      <td>-0.050245</td>\n",
       "      <td>-0.039948</td>\n",
       "      <td>NaN</td>\n",
       "      <td>-0.030121</td>\n",
       "      <td>NaN</td>\n",
       "    </tr>\n",
       "    <tr>\n",
       "      <th>20241024</th>\n",
       "      <td>0.0</td>\n",
       "      <td>0.0</td>\n",
       "      <td>0.0</td>\n",
       "      <td>0.0</td>\n",
       "      <td>0.0</td>\n",
       "      <td>0.0</td>\n",
       "      <td>0.0</td>\n",
       "      <td>0.0</td>\n",
       "      <td>0.0</td>\n",
       "      <td>0.0</td>\n",
       "      <td>...</td>\n",
       "      <td>-0.021497</td>\n",
       "      <td>0.020322</td>\n",
       "      <td>0.023169</td>\n",
       "      <td>0.017181</td>\n",
       "      <td>0.025331</td>\n",
       "      <td>0.005161</td>\n",
       "      <td>0.076242</td>\n",
       "      <td>NaN</td>\n",
       "      <td>-0.048815</td>\n",
       "      <td>NaN</td>\n",
       "    </tr>\n",
       "    <tr>\n",
       "      <th>20241025</th>\n",
       "      <td>0.0</td>\n",
       "      <td>0.0</td>\n",
       "      <td>0.0</td>\n",
       "      <td>0.0</td>\n",
       "      <td>0.0</td>\n",
       "      <td>0.0</td>\n",
       "      <td>0.0</td>\n",
       "      <td>0.0</td>\n",
       "      <td>0.0</td>\n",
       "      <td>0.0</td>\n",
       "      <td>...</td>\n",
       "      <td>0.016154</td>\n",
       "      <td>-0.009202</td>\n",
       "      <td>-0.027131</td>\n",
       "      <td>-0.010306</td>\n",
       "      <td>0.011776</td>\n",
       "      <td>-0.003708</td>\n",
       "      <td>-0.007733</td>\n",
       "      <td>NaN</td>\n",
       "      <td>0.024673</td>\n",
       "      <td>-0.000763</td>\n",
       "    </tr>\n",
       "    <tr>\n",
       "      <th>20241028</th>\n",
       "      <td>0.0</td>\n",
       "      <td>0.0</td>\n",
       "      <td>0.0</td>\n",
       "      <td>0.0</td>\n",
       "      <td>0.0</td>\n",
       "      <td>0.0</td>\n",
       "      <td>0.0</td>\n",
       "      <td>0.0</td>\n",
       "      <td>0.0</td>\n",
       "      <td>0.0</td>\n",
       "      <td>...</td>\n",
       "      <td>-0.008648</td>\n",
       "      <td>-0.007888</td>\n",
       "      <td>0.005270</td>\n",
       "      <td>0.006364</td>\n",
       "      <td>0.039936</td>\n",
       "      <td>0.015462</td>\n",
       "      <td>-0.035696</td>\n",
       "      <td>-0.184516</td>\n",
       "      <td>0.026487</td>\n",
       "      <td>-0.094503</td>\n",
       "    </tr>\n",
       "  </tbody>\n",
       "</table>\n",
       "<p>1713 rows × 5632 columns</p>\n",
       "</div>"
      ],
      "text/plain": [
       "InstrumentID  BJ430017  BJ430047  BJ430090  BJ430139  BJ430198  BJ430300  \\\n",
       "date                                                                       \n",
       "20171009           NaN       NaN       NaN       NaN       NaN       NaN   \n",
       "20171010           NaN       NaN       NaN       NaN       NaN       NaN   \n",
       "20171011           NaN       NaN       NaN       NaN       NaN       NaN   \n",
       "20171012           NaN       NaN       NaN       NaN       NaN       NaN   \n",
       "20171013           NaN       NaN       NaN       NaN       NaN       NaN   \n",
       "...                ...       ...       ...       ...       ...       ...   \n",
       "20241022           0.0       0.0       0.0       0.0       0.0       0.0   \n",
       "20241023           0.0       0.0       0.0       0.0       0.0       0.0   \n",
       "20241024           0.0       0.0       0.0       0.0       0.0       0.0   \n",
       "20241025           0.0       0.0       0.0       0.0       0.0       0.0   \n",
       "20241028           0.0       0.0       0.0       0.0       0.0       0.0   \n",
       "\n",
       "InstrumentID  BJ430418  BJ430425  BJ430476  BJ430478  ...  SZ301596  SZ301600  \\\n",
       "date                                                  ...                       \n",
       "20171009           NaN       NaN       NaN       NaN  ...       NaN       NaN   \n",
       "20171010           NaN       NaN       NaN       NaN  ...       NaN       NaN   \n",
       "20171011           NaN       NaN       NaN       NaN  ...       NaN       NaN   \n",
       "20171012           NaN       NaN       NaN       NaN  ...       NaN       NaN   \n",
       "20171013           NaN       NaN       NaN       NaN  ...       NaN       NaN   \n",
       "...                ...       ...       ...       ...  ...       ...       ...   \n",
       "20241022           0.0       0.0       0.0       0.0  ...  0.053316  0.014305   \n",
       "20241023           0.0       0.0       0.0       0.0  ... -0.042383  0.044325   \n",
       "20241024           0.0       0.0       0.0       0.0  ... -0.021497  0.020322   \n",
       "20241025           0.0       0.0       0.0       0.0  ...  0.016154 -0.009202   \n",
       "20241028           0.0       0.0       0.0       0.0  ... -0.008648 -0.007888   \n",
       "\n",
       "InstrumentID  SZ301603  SZ301606  SZ301607  SZ301608  SZ301611  SZ301613  \\\n",
       "date                                                                       \n",
       "20171009           NaN       NaN       NaN       NaN       NaN       NaN   \n",
       "20171010           NaN       NaN       NaN       NaN       NaN       NaN   \n",
       "20171011           NaN       NaN       NaN       NaN       NaN       NaN   \n",
       "20171012           NaN       NaN       NaN       NaN       NaN       NaN   \n",
       "20171013           NaN       NaN       NaN       NaN       NaN       NaN   \n",
       "...                ...       ...       ...       ...       ...       ...   \n",
       "20241022      0.012610 -0.017768 -0.045141 -0.002174  0.035220       NaN   \n",
       "20241023     -0.034403 -0.029395 -0.016302 -0.050245 -0.039948       NaN   \n",
       "20241024      0.023169  0.017181  0.025331  0.005161  0.076242       NaN   \n",
       "20241025     -0.027131 -0.010306  0.011776 -0.003708 -0.007733       NaN   \n",
       "20241028      0.005270  0.006364  0.039936  0.015462 -0.035696 -0.184516   \n",
       "\n",
       "InstrumentID  SZ301618  SZ301626  \n",
       "date                              \n",
       "20171009           NaN       NaN  \n",
       "20171010           NaN       NaN  \n",
       "20171011           NaN       NaN  \n",
       "20171012           NaN       NaN  \n",
       "20171013           NaN       NaN  \n",
       "...                ...       ...  \n",
       "20241022      0.033158       NaN  \n",
       "20241023     -0.030121       NaN  \n",
       "20241024     -0.048815       NaN  \n",
       "20241025      0.024673 -0.000763  \n",
       "20241028      0.026487 -0.094503  \n",
       "\n",
       "[1713 rows x 5632 columns]"
      ]
     },
     "execution_count": 60,
     "metadata": {},
     "output_type": "execute_result"
    }
   ],
   "source": [
    "ret = datadaily.adjclose.pct_change()\n",
    "ret"
   ]
  },
  {
   "cell_type": "code",
   "execution_count": 86,
   "metadata": {},
   "outputs": [],
   "source": [
    "pure_buy_l = pd.read_csv(factor_path + 'pure_buy_l.csv').replace(np.inf, np.nan).set_index('date')"
   ]
  },
  {
   "cell_type": "code",
   "execution_count": 89,
   "metadata": {},
   "outputs": [
    {
     "data": {
      "text/html": [
       "<div>\n",
       "<style scoped>\n",
       "    .dataframe tbody tr th:only-of-type {\n",
       "        vertical-align: middle;\n",
       "    }\n",
       "\n",
       "    .dataframe tbody tr th {\n",
       "        vertical-align: top;\n",
       "    }\n",
       "\n",
       "    .dataframe thead th {\n",
       "        text-align: right;\n",
       "    }\n",
       "</style>\n",
       "<table border=\"1\" class=\"dataframe\">\n",
       "  <thead>\n",
       "    <tr style=\"text-align: right;\">\n",
       "      <th></th>\n",
       "      <th>BJ430017</th>\n",
       "      <th>BJ430047</th>\n",
       "      <th>BJ430090</th>\n",
       "      <th>BJ430139</th>\n",
       "      <th>BJ430198</th>\n",
       "      <th>BJ430300</th>\n",
       "      <th>BJ430418</th>\n",
       "      <th>BJ430425</th>\n",
       "      <th>BJ430476</th>\n",
       "      <th>BJ430478</th>\n",
       "      <th>...</th>\n",
       "      <th>SZ301596</th>\n",
       "      <th>SZ301600</th>\n",
       "      <th>SZ301603</th>\n",
       "      <th>SZ301606</th>\n",
       "      <th>SZ301607</th>\n",
       "      <th>SZ301608</th>\n",
       "      <th>SZ301611</th>\n",
       "      <th>SZ301613</th>\n",
       "      <th>SZ301618</th>\n",
       "      <th>SZ301626</th>\n",
       "    </tr>\n",
       "    <tr>\n",
       "      <th>date</th>\n",
       "      <th></th>\n",
       "      <th></th>\n",
       "      <th></th>\n",
       "      <th></th>\n",
       "      <th></th>\n",
       "      <th></th>\n",
       "      <th></th>\n",
       "      <th></th>\n",
       "      <th></th>\n",
       "      <th></th>\n",
       "      <th></th>\n",
       "      <th></th>\n",
       "      <th></th>\n",
       "      <th></th>\n",
       "      <th></th>\n",
       "      <th></th>\n",
       "      <th></th>\n",
       "      <th></th>\n",
       "      <th></th>\n",
       "      <th></th>\n",
       "      <th></th>\n",
       "    </tr>\n",
       "  </thead>\n",
       "  <tbody>\n",
       "    <tr>\n",
       "      <th>20210104</th>\n",
       "      <td>NaN</td>\n",
       "      <td>NaN</td>\n",
       "      <td>NaN</td>\n",
       "      <td>NaN</td>\n",
       "      <td>NaN</td>\n",
       "      <td>NaN</td>\n",
       "      <td>NaN</td>\n",
       "      <td>NaN</td>\n",
       "      <td>NaN</td>\n",
       "      <td>NaN</td>\n",
       "      <td>...</td>\n",
       "      <td>NaN</td>\n",
       "      <td>NaN</td>\n",
       "      <td>NaN</td>\n",
       "      <td>NaN</td>\n",
       "      <td>NaN</td>\n",
       "      <td>NaN</td>\n",
       "      <td>NaN</td>\n",
       "      <td>NaN</td>\n",
       "      <td>NaN</td>\n",
       "      <td>NaN</td>\n",
       "    </tr>\n",
       "    <tr>\n",
       "      <th>20210105</th>\n",
       "      <td>NaN</td>\n",
       "      <td>NaN</td>\n",
       "      <td>NaN</td>\n",
       "      <td>NaN</td>\n",
       "      <td>NaN</td>\n",
       "      <td>NaN</td>\n",
       "      <td>NaN</td>\n",
       "      <td>NaN</td>\n",
       "      <td>NaN</td>\n",
       "      <td>NaN</td>\n",
       "      <td>...</td>\n",
       "      <td>NaN</td>\n",
       "      <td>NaN</td>\n",
       "      <td>NaN</td>\n",
       "      <td>NaN</td>\n",
       "      <td>NaN</td>\n",
       "      <td>NaN</td>\n",
       "      <td>NaN</td>\n",
       "      <td>NaN</td>\n",
       "      <td>NaN</td>\n",
       "      <td>NaN</td>\n",
       "    </tr>\n",
       "    <tr>\n",
       "      <th>20210106</th>\n",
       "      <td>NaN</td>\n",
       "      <td>NaN</td>\n",
       "      <td>NaN</td>\n",
       "      <td>NaN</td>\n",
       "      <td>NaN</td>\n",
       "      <td>NaN</td>\n",
       "      <td>NaN</td>\n",
       "      <td>NaN</td>\n",
       "      <td>NaN</td>\n",
       "      <td>NaN</td>\n",
       "      <td>...</td>\n",
       "      <td>NaN</td>\n",
       "      <td>NaN</td>\n",
       "      <td>NaN</td>\n",
       "      <td>NaN</td>\n",
       "      <td>NaN</td>\n",
       "      <td>NaN</td>\n",
       "      <td>NaN</td>\n",
       "      <td>NaN</td>\n",
       "      <td>NaN</td>\n",
       "      <td>NaN</td>\n",
       "    </tr>\n",
       "    <tr>\n",
       "      <th>20210107</th>\n",
       "      <td>NaN</td>\n",
       "      <td>NaN</td>\n",
       "      <td>NaN</td>\n",
       "      <td>NaN</td>\n",
       "      <td>NaN</td>\n",
       "      <td>NaN</td>\n",
       "      <td>NaN</td>\n",
       "      <td>NaN</td>\n",
       "      <td>NaN</td>\n",
       "      <td>NaN</td>\n",
       "      <td>...</td>\n",
       "      <td>NaN</td>\n",
       "      <td>NaN</td>\n",
       "      <td>NaN</td>\n",
       "      <td>NaN</td>\n",
       "      <td>NaN</td>\n",
       "      <td>NaN</td>\n",
       "      <td>NaN</td>\n",
       "      <td>NaN</td>\n",
       "      <td>NaN</td>\n",
       "      <td>NaN</td>\n",
       "    </tr>\n",
       "    <tr>\n",
       "      <th>20210108</th>\n",
       "      <td>NaN</td>\n",
       "      <td>NaN</td>\n",
       "      <td>NaN</td>\n",
       "      <td>NaN</td>\n",
       "      <td>NaN</td>\n",
       "      <td>NaN</td>\n",
       "      <td>NaN</td>\n",
       "      <td>NaN</td>\n",
       "      <td>NaN</td>\n",
       "      <td>NaN</td>\n",
       "      <td>...</td>\n",
       "      <td>NaN</td>\n",
       "      <td>NaN</td>\n",
       "      <td>NaN</td>\n",
       "      <td>NaN</td>\n",
       "      <td>NaN</td>\n",
       "      <td>NaN</td>\n",
       "      <td>NaN</td>\n",
       "      <td>NaN</td>\n",
       "      <td>NaN</td>\n",
       "      <td>NaN</td>\n",
       "    </tr>\n",
       "    <tr>\n",
       "      <th>...</th>\n",
       "      <td>...</td>\n",
       "      <td>...</td>\n",
       "      <td>...</td>\n",
       "      <td>...</td>\n",
       "      <td>...</td>\n",
       "      <td>...</td>\n",
       "      <td>...</td>\n",
       "      <td>...</td>\n",
       "      <td>...</td>\n",
       "      <td>...</td>\n",
       "      <td>...</td>\n",
       "      <td>...</td>\n",
       "      <td>...</td>\n",
       "      <td>...</td>\n",
       "      <td>...</td>\n",
       "      <td>...</td>\n",
       "      <td>...</td>\n",
       "      <td>...</td>\n",
       "      <td>...</td>\n",
       "      <td>...</td>\n",
       "      <td>...</td>\n",
       "    </tr>\n",
       "    <tr>\n",
       "      <th>20231225</th>\n",
       "      <td>NaN</td>\n",
       "      <td>NaN</td>\n",
       "      <td>NaN</td>\n",
       "      <td>NaN</td>\n",
       "      <td>NaN</td>\n",
       "      <td>NaN</td>\n",
       "      <td>NaN</td>\n",
       "      <td>NaN</td>\n",
       "      <td>NaN</td>\n",
       "      <td>NaN</td>\n",
       "      <td>...</td>\n",
       "      <td>NaN</td>\n",
       "      <td>NaN</td>\n",
       "      <td>NaN</td>\n",
       "      <td>NaN</td>\n",
       "      <td>NaN</td>\n",
       "      <td>NaN</td>\n",
       "      <td>NaN</td>\n",
       "      <td>NaN</td>\n",
       "      <td>NaN</td>\n",
       "      <td>NaN</td>\n",
       "    </tr>\n",
       "    <tr>\n",
       "      <th>20231226</th>\n",
       "      <td>NaN</td>\n",
       "      <td>NaN</td>\n",
       "      <td>NaN</td>\n",
       "      <td>NaN</td>\n",
       "      <td>NaN</td>\n",
       "      <td>NaN</td>\n",
       "      <td>NaN</td>\n",
       "      <td>NaN</td>\n",
       "      <td>NaN</td>\n",
       "      <td>NaN</td>\n",
       "      <td>...</td>\n",
       "      <td>NaN</td>\n",
       "      <td>NaN</td>\n",
       "      <td>NaN</td>\n",
       "      <td>NaN</td>\n",
       "      <td>NaN</td>\n",
       "      <td>NaN</td>\n",
       "      <td>NaN</td>\n",
       "      <td>NaN</td>\n",
       "      <td>NaN</td>\n",
       "      <td>NaN</td>\n",
       "    </tr>\n",
       "    <tr>\n",
       "      <th>20231227</th>\n",
       "      <td>NaN</td>\n",
       "      <td>NaN</td>\n",
       "      <td>NaN</td>\n",
       "      <td>NaN</td>\n",
       "      <td>NaN</td>\n",
       "      <td>NaN</td>\n",
       "      <td>NaN</td>\n",
       "      <td>NaN</td>\n",
       "      <td>NaN</td>\n",
       "      <td>NaN</td>\n",
       "      <td>...</td>\n",
       "      <td>NaN</td>\n",
       "      <td>NaN</td>\n",
       "      <td>NaN</td>\n",
       "      <td>NaN</td>\n",
       "      <td>NaN</td>\n",
       "      <td>NaN</td>\n",
       "      <td>NaN</td>\n",
       "      <td>NaN</td>\n",
       "      <td>NaN</td>\n",
       "      <td>NaN</td>\n",
       "    </tr>\n",
       "    <tr>\n",
       "      <th>20231228</th>\n",
       "      <td>NaN</td>\n",
       "      <td>NaN</td>\n",
       "      <td>NaN</td>\n",
       "      <td>NaN</td>\n",
       "      <td>NaN</td>\n",
       "      <td>NaN</td>\n",
       "      <td>NaN</td>\n",
       "      <td>NaN</td>\n",
       "      <td>NaN</td>\n",
       "      <td>NaN</td>\n",
       "      <td>...</td>\n",
       "      <td>NaN</td>\n",
       "      <td>NaN</td>\n",
       "      <td>NaN</td>\n",
       "      <td>NaN</td>\n",
       "      <td>NaN</td>\n",
       "      <td>NaN</td>\n",
       "      <td>NaN</td>\n",
       "      <td>NaN</td>\n",
       "      <td>NaN</td>\n",
       "      <td>NaN</td>\n",
       "    </tr>\n",
       "    <tr>\n",
       "      <th>20231229</th>\n",
       "      <td>NaN</td>\n",
       "      <td>NaN</td>\n",
       "      <td>NaN</td>\n",
       "      <td>NaN</td>\n",
       "      <td>NaN</td>\n",
       "      <td>NaN</td>\n",
       "      <td>NaN</td>\n",
       "      <td>NaN</td>\n",
       "      <td>NaN</td>\n",
       "      <td>NaN</td>\n",
       "      <td>...</td>\n",
       "      <td>NaN</td>\n",
       "      <td>NaN</td>\n",
       "      <td>NaN</td>\n",
       "      <td>NaN</td>\n",
       "      <td>NaN</td>\n",
       "      <td>NaN</td>\n",
       "      <td>NaN</td>\n",
       "      <td>NaN</td>\n",
       "      <td>NaN</td>\n",
       "      <td>NaN</td>\n",
       "    </tr>\n",
       "  </tbody>\n",
       "</table>\n",
       "<p>727 rows × 5632 columns</p>\n",
       "</div>"
      ],
      "text/plain": [
       "          BJ430017  BJ430047  BJ430090  BJ430139  BJ430198  BJ430300  \\\n",
       "date                                                                   \n",
       "20210104       NaN       NaN       NaN       NaN       NaN       NaN   \n",
       "20210105       NaN       NaN       NaN       NaN       NaN       NaN   \n",
       "20210106       NaN       NaN       NaN       NaN       NaN       NaN   \n",
       "20210107       NaN       NaN       NaN       NaN       NaN       NaN   \n",
       "20210108       NaN       NaN       NaN       NaN       NaN       NaN   \n",
       "...            ...       ...       ...       ...       ...       ...   \n",
       "20231225       NaN       NaN       NaN       NaN       NaN       NaN   \n",
       "20231226       NaN       NaN       NaN       NaN       NaN       NaN   \n",
       "20231227       NaN       NaN       NaN       NaN       NaN       NaN   \n",
       "20231228       NaN       NaN       NaN       NaN       NaN       NaN   \n",
       "20231229       NaN       NaN       NaN       NaN       NaN       NaN   \n",
       "\n",
       "          BJ430418  BJ430425  BJ430476  BJ430478  ...  SZ301596  SZ301600  \\\n",
       "date                                              ...                       \n",
       "20210104       NaN       NaN       NaN       NaN  ...       NaN       NaN   \n",
       "20210105       NaN       NaN       NaN       NaN  ...       NaN       NaN   \n",
       "20210106       NaN       NaN       NaN       NaN  ...       NaN       NaN   \n",
       "20210107       NaN       NaN       NaN       NaN  ...       NaN       NaN   \n",
       "20210108       NaN       NaN       NaN       NaN  ...       NaN       NaN   \n",
       "...            ...       ...       ...       ...  ...       ...       ...   \n",
       "20231225       NaN       NaN       NaN       NaN  ...       NaN       NaN   \n",
       "20231226       NaN       NaN       NaN       NaN  ...       NaN       NaN   \n",
       "20231227       NaN       NaN       NaN       NaN  ...       NaN       NaN   \n",
       "20231228       NaN       NaN       NaN       NaN  ...       NaN       NaN   \n",
       "20231229       NaN       NaN       NaN       NaN  ...       NaN       NaN   \n",
       "\n",
       "          SZ301603  SZ301606  SZ301607  SZ301608  SZ301611  SZ301613  \\\n",
       "date                                                                   \n",
       "20210104       NaN       NaN       NaN       NaN       NaN       NaN   \n",
       "20210105       NaN       NaN       NaN       NaN       NaN       NaN   \n",
       "20210106       NaN       NaN       NaN       NaN       NaN       NaN   \n",
       "20210107       NaN       NaN       NaN       NaN       NaN       NaN   \n",
       "20210108       NaN       NaN       NaN       NaN       NaN       NaN   \n",
       "...            ...       ...       ...       ...       ...       ...   \n",
       "20231225       NaN       NaN       NaN       NaN       NaN       NaN   \n",
       "20231226       NaN       NaN       NaN       NaN       NaN       NaN   \n",
       "20231227       NaN       NaN       NaN       NaN       NaN       NaN   \n",
       "20231228       NaN       NaN       NaN       NaN       NaN       NaN   \n",
       "20231229       NaN       NaN       NaN       NaN       NaN       NaN   \n",
       "\n",
       "          SZ301618  SZ301626  \n",
       "date                          \n",
       "20210104       NaN       NaN  \n",
       "20210105       NaN       NaN  \n",
       "20210106       NaN       NaN  \n",
       "20210107       NaN       NaN  \n",
       "20210108       NaN       NaN  \n",
       "...            ...       ...  \n",
       "20231225       NaN       NaN  \n",
       "20231226       NaN       NaN  \n",
       "20231227       NaN       NaN  \n",
       "20231228       NaN       NaN  \n",
       "20231229       NaN       NaN  \n",
       "\n",
       "[727 rows x 5632 columns]"
      ]
     },
     "execution_count": 89,
     "metadata": {},
     "output_type": "execute_result"
    }
   ],
   "source": [
    "pure_buy_l"
   ]
  },
  {
   "cell_type": "code",
   "execution_count": 87,
   "metadata": {},
   "outputs": [
    {
     "data": {
      "image/png": "[encoded data removed]",
      "text/plain": [
       "<Figure size 720x432 with 1 Axes>"
      ]
     },
     "metadata": {
      "needs_background": "light"
     },
     "output_type": "display_data"
    }
   ],
   "source": [
    "factor_distribution_plot(pure_buy_l)"
   ]
  },
  {
   "cell_type": "code",
   "execution_count": 105,
   "metadata": {},
   "outputs": [
    {
     "data": {
      "image/png": "[encoded data removed]",
      "text/plain": [
       "<Figure size 720x432 with 1 Axes>"
      ]
     },
     "metadata": {
      "needs_background": "light"
     },
     "output_type": "display_data"
    }
   ],
   "source": [
    "factor_distribution_plot(np.log(pure_buy_l.abs().replace(0, np.nan)))"
   ]
  },
  {
   "cell_type": "code",
   "execution_count": 104,
   "metadata": {},
   "outputs": [],
   "source": [
    "(np.log(pure_buy_l.abs().replace(0, np.nan))).to_csv(factor_path + 'pure_buy_l_abs_log.csv')"
   ]
  },
  {
   "cell_type": "code",
   "execution_count": 113,
   "metadata": {},
   "outputs": [],
   "source": [
    "pure_buy_l_per = pd.read_csv(factor_path + 'pure_buy_l_per.csv').replace(np.inf, np.nan).replace(-np.inf, np.nan).set_index('date')"
   ]
  },
  {
   "cell_type": "code",
   "execution_count": 115,
   "metadata": {},
   "outputs": [
    {
     "data": {
      "image/png": "[encoded data removed]",
      "text/plain": [
       "<Figure size 720x432 with 1 Axes>"
      ]
     },
     "metadata": {
      "needs_background": "light"
     },
     "output_type": "display_data"
    }
   ],
   "source": [
    "factor_distribution_plot(pure_buy_l_per)"
   ]
  },
  {
   "cell_type": "code",
   "execution_count": 117,
   "metadata": {},
   "outputs": [
    {
     "data": {
      "image/png": "[encoded data removed]",
      "text/plain": [
       "<Figure size 720x432 with 1 Axes>"
      ]
     },
     "metadata": {
      "needs_background": "light"
     },
     "output_type": "display_data"
    }
   ],
   "source": [
    "factor_distribution_plot(np.log(pure_buy_l_per.replace(0, np.nan).abs()))"
   ]
  },
  {
   "cell_type": "code",
   "execution_count": 123,
   "metadata": {},
   "outputs": [
    {
     "name": "stderr",
     "output_type": "stream",
     "text": [
      "<ipython-input-123-a0fed8f760f7>:1: RuntimeWarning: invalid value encountered in log\n",
      "  (np.log(pure_buy_l_per.replace(0, np.nan))).to_csv(factor_path + 'pure_buy_l_per_log.csv')\n"
     ]
    }
   ],
   "source": [
    "(np.log(pure_buy_l_per.replace(0, np.nan))).to_csv(factor_path + 'pure_buy_l_per_log.csv')"
   ]
  },
  {
   "cell_type": "code",
   "execution_count": 134,
   "metadata": {},
   "outputs": [
    {
     "name": "stderr",
     "output_type": "stream",
     "text": [
      "<ipython-input-134-d72d024a8049>:1: RuntimeWarning: invalid value encountered in log\n",
      "  pure_buy_l_per_log = np.log(pure_buy_l_per.replace(0, np.nan))\n"
     ]
    },
    {
     "data": {
      "text/html": [
       "<div>\n",
       "<style scoped>\n",
       "    .dataframe tbody tr th:only-of-type {\n",
       "        vertical-align: middle;\n",
       "    }\n",
       "\n",
       "    .dataframe tbody tr th {\n",
       "        vertical-align: top;\n",
       "    }\n",
       "\n",
       "    .dataframe thead th {\n",
       "        text-align: right;\n",
       "    }\n",
       "</style>\n",
       "<table border=\"1\" class=\"dataframe\">\n",
       "  <thead>\n",
       "    <tr style=\"text-align: right;\">\n",
       "      <th></th>\n",
       "      <th>BJ430017</th>\n",
       "      <th>BJ430047</th>\n",
       "      <th>BJ430090</th>\n",
       "      <th>BJ430139</th>\n",
       "      <th>BJ430198</th>\n",
       "      <th>BJ430300</th>\n",
       "      <th>BJ430418</th>\n",
       "      <th>BJ430425</th>\n",
       "      <th>BJ430476</th>\n",
       "      <th>BJ430478</th>\n",
       "      <th>...</th>\n",
       "      <th>SZ301596</th>\n",
       "      <th>SZ301600</th>\n",
       "      <th>SZ301603</th>\n",
       "      <th>SZ301606</th>\n",
       "      <th>SZ301607</th>\n",
       "      <th>SZ301608</th>\n",
       "      <th>SZ301611</th>\n",
       "      <th>SZ301613</th>\n",
       "      <th>SZ301618</th>\n",
       "      <th>SZ301626</th>\n",
       "    </tr>\n",
       "    <tr>\n",
       "      <th>date</th>\n",
       "      <th></th>\n",
       "      <th></th>\n",
       "      <th></th>\n",
       "      <th></th>\n",
       "      <th></th>\n",
       "      <th></th>\n",
       "      <th></th>\n",
       "      <th></th>\n",
       "      <th></th>\n",
       "      <th></th>\n",
       "      <th></th>\n",
       "      <th></th>\n",
       "      <th></th>\n",
       "      <th></th>\n",
       "      <th></th>\n",
       "      <th></th>\n",
       "      <th></th>\n",
       "      <th></th>\n",
       "      <th></th>\n",
       "      <th></th>\n",
       "      <th></th>\n",
       "    </tr>\n",
       "  </thead>\n",
       "  <tbody>\n",
       "    <tr>\n",
       "      <th>20210104</th>\n",
       "      <td>NaN</td>\n",
       "      <td>NaN</td>\n",
       "      <td>NaN</td>\n",
       "      <td>NaN</td>\n",
       "      <td>NaN</td>\n",
       "      <td>NaN</td>\n",
       "      <td>NaN</td>\n",
       "      <td>NaN</td>\n",
       "      <td>NaN</td>\n",
       "      <td>NaN</td>\n",
       "      <td>...</td>\n",
       "      <td>NaN</td>\n",
       "      <td>NaN</td>\n",
       "      <td>NaN</td>\n",
       "      <td>NaN</td>\n",
       "      <td>NaN</td>\n",
       "      <td>NaN</td>\n",
       "      <td>NaN</td>\n",
       "      <td>NaN</td>\n",
       "      <td>NaN</td>\n",
       "      <td>NaN</td>\n",
       "    </tr>\n",
       "    <tr>\n",
       "      <th>20210105</th>\n",
       "      <td>NaN</td>\n",
       "      <td>NaN</td>\n",
       "      <td>NaN</td>\n",
       "      <td>NaN</td>\n",
       "      <td>NaN</td>\n",
       "      <td>NaN</td>\n",
       "      <td>NaN</td>\n",
       "      <td>NaN</td>\n",
       "      <td>NaN</td>\n",
       "      <td>NaN</td>\n",
       "      <td>...</td>\n",
       "      <td>NaN</td>\n",
       "      <td>NaN</td>\n",
       "      <td>NaN</td>\n",
       "      <td>NaN</td>\n",
       "      <td>NaN</td>\n",
       "      <td>NaN</td>\n",
       "      <td>NaN</td>\n",
       "      <td>NaN</td>\n",
       "      <td>NaN</td>\n",
       "      <td>NaN</td>\n",
       "    </tr>\n",
       "    <tr>\n",
       "      <th>20210106</th>\n",
       "      <td>NaN</td>\n",
       "      <td>NaN</td>\n",
       "      <td>NaN</td>\n",
       "      <td>NaN</td>\n",
       "      <td>NaN</td>\n",
       "      <td>NaN</td>\n",
       "      <td>NaN</td>\n",
       "      <td>NaN</td>\n",
       "      <td>NaN</td>\n",
       "      <td>NaN</td>\n",
       "      <td>...</td>\n",
       "      <td>NaN</td>\n",
       "      <td>NaN</td>\n",
       "      <td>NaN</td>\n",
       "      <td>NaN</td>\n",
       "      <td>NaN</td>\n",
       "      <td>NaN</td>\n",
       "      <td>NaN</td>\n",
       "      <td>NaN</td>\n",
       "      <td>NaN</td>\n",
       "      <td>NaN</td>\n",
       "    </tr>\n",
       "    <tr>\n",
       "      <th>20210107</th>\n",
       "      <td>NaN</td>\n",
       "      <td>NaN</td>\n",
       "      <td>NaN</td>\n",
       "      <td>NaN</td>\n",
       "      <td>NaN</td>\n",
       "      <td>NaN</td>\n",
       "      <td>NaN</td>\n",
       "      <td>NaN</td>\n",
       "      <td>NaN</td>\n",
       "      <td>NaN</td>\n",
       "      <td>...</td>\n",
       "      <td>NaN</td>\n",
       "      <td>NaN</td>\n",
       "      <td>NaN</td>\n",
       "      <td>NaN</td>\n",
       "      <td>NaN</td>\n",
       "      <td>NaN</td>\n",
       "      <td>NaN</td>\n",
       "      <td>NaN</td>\n",
       "      <td>NaN</td>\n",
       "      <td>NaN</td>\n",
       "    </tr>\n",
       "    <tr>\n",
       "      <th>20210108</th>\n",
       "      <td>NaN</td>\n",
       "      <td>NaN</td>\n",
       "      <td>NaN</td>\n",
       "      <td>NaN</td>\n",
       "      <td>NaN</td>\n",
       "      <td>NaN</td>\n",
       "      <td>NaN</td>\n",
       "      <td>NaN</td>\n",
       "      <td>NaN</td>\n",
       "      <td>NaN</td>\n",
       "      <td>...</td>\n",
       "      <td>NaN</td>\n",
       "      <td>NaN</td>\n",
       "      <td>NaN</td>\n",
       "      <td>NaN</td>\n",
       "      <td>NaN</td>\n",
       "      <td>NaN</td>\n",
       "      <td>NaN</td>\n",
       "      <td>NaN</td>\n",
       "      <td>NaN</td>\n",
       "      <td>NaN</td>\n",
       "    </tr>\n",
       "    <tr>\n",
       "      <th>...</th>\n",
       "      <td>...</td>\n",
       "      <td>...</td>\n",
       "      <td>...</td>\n",
       "      <td>...</td>\n",
       "      <td>...</td>\n",
       "      <td>...</td>\n",
       "      <td>...</td>\n",
       "      <td>...</td>\n",
       "      <td>...</td>\n",
       "      <td>...</td>\n",
       "      <td>...</td>\n",
       "      <td>...</td>\n",
       "      <td>...</td>\n",
       "      <td>...</td>\n",
       "      <td>...</td>\n",
       "      <td>...</td>\n",
       "      <td>...</td>\n",
       "      <td>...</td>\n",
       "      <td>...</td>\n",
       "      <td>...</td>\n",
       "      <td>...</td>\n",
       "    </tr>\n",
       "    <tr>\n",
       "      <th>20231225</th>\n",
       "      <td>NaN</td>\n",
       "      <td>NaN</td>\n",
       "      <td>NaN</td>\n",
       "      <td>NaN</td>\n",
       "      <td>NaN</td>\n",
       "      <td>NaN</td>\n",
       "      <td>NaN</td>\n",
       "      <td>NaN</td>\n",
       "      <td>NaN</td>\n",
       "      <td>NaN</td>\n",
       "      <td>...</td>\n",
       "      <td>NaN</td>\n",
       "      <td>NaN</td>\n",
       "      <td>NaN</td>\n",
       "      <td>NaN</td>\n",
       "      <td>NaN</td>\n",
       "      <td>NaN</td>\n",
       "      <td>NaN</td>\n",
       "      <td>NaN</td>\n",
       "      <td>NaN</td>\n",
       "      <td>NaN</td>\n",
       "    </tr>\n",
       "    <tr>\n",
       "      <th>20231226</th>\n",
       "      <td>NaN</td>\n",
       "      <td>NaN</td>\n",
       "      <td>NaN</td>\n",
       "      <td>NaN</td>\n",
       "      <td>NaN</td>\n",
       "      <td>NaN</td>\n",
       "      <td>NaN</td>\n",
       "      <td>NaN</td>\n",
       "      <td>NaN</td>\n",
       "      <td>NaN</td>\n",
       "      <td>...</td>\n",
       "      <td>NaN</td>\n",
       "      <td>NaN</td>\n",
       "      <td>NaN</td>\n",
       "      <td>NaN</td>\n",
       "      <td>NaN</td>\n",
       "      <td>NaN</td>\n",
       "      <td>NaN</td>\n",
       "      <td>NaN</td>\n",
       "      <td>NaN</td>\n",
       "      <td>NaN</td>\n",
       "    </tr>\n",
       "    <tr>\n",
       "      <th>20231227</th>\n",
       "      <td>NaN</td>\n",
       "      <td>NaN</td>\n",
       "      <td>NaN</td>\n",
       "      <td>NaN</td>\n",
       "      <td>NaN</td>\n",
       "      <td>NaN</td>\n",
       "      <td>NaN</td>\n",
       "      <td>NaN</td>\n",
       "      <td>NaN</td>\n",
       "      <td>NaN</td>\n",
       "      <td>...</td>\n",
       "      <td>NaN</td>\n",
       "      <td>NaN</td>\n",
       "      <td>NaN</td>\n",
       "      <td>NaN</td>\n",
       "      <td>NaN</td>\n",
       "      <td>NaN</td>\n",
       "      <td>NaN</td>\n",
       "      <td>NaN</td>\n",
       "      <td>NaN</td>\n",
       "      <td>NaN</td>\n",
       "    </tr>\n",
       "    <tr>\n",
       "      <th>20231228</th>\n",
       "      <td>NaN</td>\n",
       "      <td>NaN</td>\n",
       "      <td>NaN</td>\n",
       "      <td>NaN</td>\n",
       "      <td>NaN</td>\n",
       "      <td>NaN</td>\n",
       "      <td>NaN</td>\n",
       "      <td>NaN</td>\n",
       "      <td>NaN</td>\n",
       "      <td>NaN</td>\n",
       "      <td>...</td>\n",
       "      <td>NaN</td>\n",
       "      <td>NaN</td>\n",
       "      <td>NaN</td>\n",
       "      <td>NaN</td>\n",
       "      <td>NaN</td>\n",
       "      <td>NaN</td>\n",
       "      <td>NaN</td>\n",
       "      <td>NaN</td>\n",
       "      <td>NaN</td>\n",
       "      <td>NaN</td>\n",
       "    </tr>\n",
       "    <tr>\n",
       "      <th>20231229</th>\n",
       "      <td>NaN</td>\n",
       "      <td>NaN</td>\n",
       "      <td>NaN</td>\n",
       "      <td>NaN</td>\n",
       "      <td>NaN</td>\n",
       "      <td>NaN</td>\n",
       "      <td>NaN</td>\n",
       "      <td>NaN</td>\n",
       "      <td>NaN</td>\n",
       "      <td>NaN</td>\n",
       "      <td>...</td>\n",
       "      <td>NaN</td>\n",
       "      <td>NaN</td>\n",
       "      <td>NaN</td>\n",
       "      <td>NaN</td>\n",
       "      <td>NaN</td>\n",
       "      <td>NaN</td>\n",
       "      <td>NaN</td>\n",
       "      <td>NaN</td>\n",
       "      <td>NaN</td>\n",
       "      <td>NaN</td>\n",
       "    </tr>\n",
       "  </tbody>\n",
       "</table>\n",
       "<p>727 rows × 5632 columns</p>\n",
       "</div>"
      ],
      "text/plain": [
       "          BJ430017  BJ430047  BJ430090  BJ430139  BJ430198  BJ430300  \\\n",
       "date                                                                   \n",
       "20210104       NaN       NaN       NaN       NaN       NaN       NaN   \n",
       "20210105       NaN       NaN       NaN       NaN       NaN       NaN   \n",
       "20210106       NaN       NaN       NaN       NaN       NaN       NaN   \n",
       "20210107       NaN       NaN       NaN       NaN       NaN       NaN   \n",
       "20210108       NaN       NaN       NaN       NaN       NaN       NaN   \n",
       "...            ...       ...       ...       ...       ...       ...   \n",
       "20231225       NaN       NaN       NaN       NaN       NaN       NaN   \n",
       "20231226       NaN       NaN       NaN       NaN       NaN       NaN   \n",
       "20231227       NaN       NaN       NaN       NaN       NaN       NaN   \n",
       "20231228       NaN       NaN       NaN       NaN       NaN       NaN   \n",
       "20231229       NaN       NaN       NaN       NaN       NaN       NaN   \n",
       "\n",
       "          BJ430418  BJ430425  BJ430476  BJ430478  ...  SZ301596  SZ301600  \\\n",
       "date                                              ...                       \n",
       "20210104       NaN       NaN       NaN       NaN  ...       NaN       NaN   \n",
       "20210105       NaN       NaN       NaN       NaN  ...       NaN       NaN   \n",
       "20210106       NaN       NaN       NaN       NaN  ...       NaN       NaN   \n",
       "20210107       NaN       NaN       NaN       NaN  ...       NaN       NaN   \n",
       "20210108       NaN       NaN       NaN       NaN  ...       NaN       NaN   \n",
       "...            ...       ...       ...       ...  ...       ...       ...   \n",
       "20231225       NaN       NaN       NaN       NaN  ...       NaN       NaN   \n",
       "20231226       NaN       NaN       NaN       NaN  ...       NaN       NaN   \n",
       "20231227       NaN       NaN       NaN       NaN  ...       NaN       NaN   \n",
       "20231228       NaN       NaN       NaN       NaN  ...       NaN       NaN   \n",
       "20231229       NaN       NaN       NaN       NaN  ...       NaN       NaN   \n",
       "\n",
       "          SZ301603  SZ301606  SZ301607  SZ301608  SZ301611  SZ301613  \\\n",
       "date                                                                   \n",
       "20210104       NaN       NaN       NaN       NaN       NaN       NaN   \n",
       "20210105       NaN       NaN       NaN       NaN       NaN       NaN   \n",
       "20210106       NaN       NaN       NaN       NaN       NaN       NaN   \n",
       "20210107       NaN       NaN       NaN       NaN       NaN       NaN   \n",
       "20210108       NaN       NaN       NaN       NaN       NaN       NaN   \n",
       "...            ...       ...       ...       ...       ...       ...   \n",
       "20231225       NaN       NaN       NaN       NaN       NaN       NaN   \n",
       "20231226       NaN       NaN       NaN       NaN       NaN       NaN   \n",
       "20231227       NaN       NaN       NaN       NaN       NaN       NaN   \n",
       "20231228       NaN       NaN       NaN       NaN       NaN       NaN   \n",
       "20231229       NaN       NaN       NaN       NaN       NaN       NaN   \n",
       "\n",
       "          SZ301618  SZ301626  \n",
       "date                          \n",
       "20210104       NaN       NaN  \n",
       "20210105       NaN       NaN  \n",
       "20210106       NaN       NaN  \n",
       "20210107       NaN       NaN  \n",
       "20210108       NaN       NaN  \n",
       "...            ...       ...  \n",
       "20231225       NaN       NaN  \n",
       "20231226       NaN       NaN  \n",
       "20231227       NaN       NaN  \n",
       "20231228       NaN       NaN  \n",
       "20231229       NaN       NaN  \n",
       "\n",
       "[727 rows x 5632 columns]"
      ]
     },
     "execution_count": 134,
     "metadata": {},
     "output_type": "execute_result"
    }
   ],
   "source": [
    "pure_buy_l_per_log = np.log(pure_buy_l_per.replace(0, np.nan))\n",
    "pure_buy_l_per_log_zs = ((pure_buy_l_per_log.T - pure_buy_l_per_log.mean(axis=1)) / pure_buy_l_per_log.std(axis=1) + 1e-10).T\n",
    "pure_buy_l_per_log_zs"
   ]
  },
  {
   "cell_type": "code",
   "execution_count": 138,
   "metadata": {},
   "outputs": [],
   "source": [
    "pure_buy_l_per_log_trans = -np.cos(pure_buy_l_per_log_zs)"
   ]
  },
  {
   "cell_type": "code",
   "execution_count": 139,
   "metadata": {},
   "outputs": [],
   "source": [
    "pure_buy_l_per_log_trans.to_csv(factor_path + 'pure_buy_l_per_log_trans.csv')"
   ]
  },
  {
   "cell_type": "code",
   "execution_count": 17,
   "metadata": {},
   "outputs": [],
   "source": [
    "b_os = datadaily.buy_value_large_order.loc[20190101:20201231]\n",
    "s_os = datadaily.sell_value_large_order.loc[20190101:20201231]"
   ]
  },
  {
   "cell_type": "code",
   "execution_count": 32,
   "metadata": {},
   "outputs": [
    {
     "name": "stderr",
     "output_type": "stream",
     "text": [
      "<ipython-input-32-5407a0757dc1>:3: RuntimeWarning: invalid value encountered in log\n",
      "  pure_b_os_log = np.log(pure_b_os.replace(0, np.nan))\n"
     ]
    }
   ],
   "source": [
    "pure_b_os = b_os - s_os\n",
    "pure_b_os_per = (pure_b_os / pure_b_os.shift(1)).replace(np.inf, np.nan).replace(-np.inf,np.nan)\n",
    "pure_b_os_log = np.log(pure_b_os.replace(0, np.nan))\n",
    "pure_b_os_log_zs = ((pure_b_os_log.T - pure_b_os_log.mean(axis=1)) / (pure_b_os_log.std(axis=1) + 1e-10)).T\n",
    "f_os = -np.cos(pure_b_os_log_zs)"
   ]
  },
  {
   "cell_type": "code",
   "execution_count": 33,
   "metadata": {},
   "outputs": [
    {
     "data": {
      "text/plain": [
       "date\n",
       "20190102   -0.630194\n",
       "20190103   -0.627715\n",
       "20190104   -0.626323\n",
       "20190107   -0.621478\n",
       "20190108   -0.624399\n",
       "              ...   \n",
       "20201225   -0.614215\n",
       "20201228   -0.623680\n",
       "20201229   -0.633133\n",
       "20201230   -0.623190\n",
       "20201231   -0.617016\n",
       "Length: 487, dtype: float64"
      ]
     },
     "execution_count": 33,
     "metadata": {},
     "output_type": "execute_result"
    }
   ],
   "source": [
    "f_os.mean(axis=1)"
   ]
  },
  {
   "cell_type": "code",
   "execution_count": 26,
   "metadata": {},
   "outputs": [],
   "source": [
    "pure_b_os_log.to_csv(factor_path + 'pure_b_os_log.csv')"
   ]
  },
  {
   "cell_type": "code",
   "execution_count": 27,
   "metadata": {},
   "outputs": [],
   "source": [
    "f_os.to_csv(factor_path + 'pure_buy_l_per_log_trans_os19to20.csv')"
   ]
  },
  {
   "cell_type": "code",
   "execution_count": 22,
   "metadata": {},
   "outputs": [],
   "source": [
    "test = pd.read_csv(factor_path + 'pure_buy_l_per_log.csv').set_index('date').replace(np.inf, np.nan).replace(-np.inf, np.nan)"
   ]
  },
  {
   "cell_type": "code",
   "execution_count": 24,
   "metadata": {},
   "outputs": [
    {
     "data": {
      "image/png": "[encoded data removed]",
      "text/plain": [
       "<Figure size 720x432 with 1 Axes>"
      ]
     },
     "metadata": {
      "needs_background": "light"
     },
     "output_type": "display_data"
    }
   ],
   "source": [
    "factor_distribution_plot(test)"
   ]
  },
  {
   "cell_type": "code",
   "execution_count": 26,
   "metadata": {},
   "outputs": [],
   "source": [
    "pure_buy_l_per_log_trans = twist_factor(test)"
   ]
  },
  {
   "cell_type": "code",
   "execution_count": 27,
   "metadata": {},
   "outputs": [
    {
     "data": {
      "image/png": "[encoded data removed]",
      "text/plain": [
       "<Figure size 720x432 with 1 Axes>"
      ]
     },
     "metadata": {
      "needs_background": "light"
     },
     "output_type": "display_data"
    }
   ],
   "source": [
    "factor_distribution_plot(pure_buy_l_per_log_trans)"
   ]
  },
  {
   "cell_type": "code",
   "execution_count": 28,
   "metadata": {},
   "outputs": [],
   "source": [
    "pure_buy_l_per_log_trans.to_csv(factor_path + 'pure_buy_l_per_log_trans.csv')"
   ]
  },
  {
   "cell_type": "code",
   "execution_count": 10,
   "metadata": {},
   "outputs": [],
   "source": [
    "pure_ret_buy_is = buy_l_order / buy_l_order.shift(1) - sell_l_order / sell_l_order.shift(1)"
   ]
  },
  {
   "cell_type": "code",
   "execution_count": 17,
   "metadata": {},
   "outputs": [
    {
     "name": "stderr",
     "output_type": "stream",
     "text": [
      "<ipython-input-17-817c5c88a742>:2: RuntimeWarning: invalid value encountered in log\n",
      "  factor_distribution_plot(np.log(pure_ret_buy_is.replace(0, np.nan)))\n"
     ]
    },
    {
     "data": {
      "image/png": "[encoded data removed]",
      "text/plain": [
       "<Figure size 720x432 with 1 Axes>"
      ]
     },
     "metadata": {
      "needs_background": "light"
     },
     "output_type": "display_data"
    }
   ],
   "source": [
    "pure_ret_buy_is = pure_ret_buy_is.replace(np.inf, np.nan).replace(-np.inf, np.nan)\n",
    "factor_distribution_plot(np.log(pure_ret_buy_is.replace(0, np.nan)))"
   ]
  },
  {
   "cell_type": "code",
   "execution_count": 18,
   "metadata": {},
   "outputs": [
    {
     "name": "stderr",
     "output_type": "stream",
     "text": [
      "<ipython-input-18-8cd1ab3b347c>:2: RuntimeWarning: invalid value encountered in log\n",
      "  np.log(pure_ret_buy_is.replace(0, np.nan)).to_csv(factor_path + 'pure_ret_buy_is_log.csv')\n"
     ]
    }
   ],
   "source": [
    "pure_ret_buy_is.to_csv(factor_path + 'pure_ret_buy_is.csv')\n",
    "np.log(pure_ret_buy_is.replace(0, np.nan)).to_csv(factor_path + 'pure_ret_buy_is_log.csv')"
   ]
  },
  {
   "cell_type": "code",
   "execution_count": 20,
   "metadata": {},
   "outputs": [],
   "source": [
    "pure_buy_ret = (buy_l_order - sell_l_order) * ret.loc[20210101:20221231]"
   ]
  },
  {
   "cell_type": "code",
   "execution_count": 21,
   "metadata": {},
   "outputs": [
    {
     "data": {
      "image/png": "[encoded data removed]",
      "text/plain": [
       "<Figure size 720x432 with 1 Axes>"
      ]
     },
     "metadata": {
      "needs_background": "light"
     },
     "output_type": "display_data"
    }
   ],
   "source": [
    "factor_distribution_plot(pure_buy_ret)"
   ]
  },
  {
   "cell_type": "code",
   "execution_count": 22,
   "metadata": {},
   "outputs": [
    {
     "name": "stderr",
     "output_type": "stream",
     "text": [
      "<ipython-input-22-a0d904f9fc31>:1: RuntimeWarning: invalid value encountered in log\n",
      "  factor_distribution_plot(np.log(pure_buy_ret.replace(0, np.nan)))\n"
     ]
    },
    {
     "data": {
      "image/png": "[encoded data removed]",
      "text/plain": [
       "<Figure size 720x432 with 1 Axes>"
      ]
     },
     "metadata": {
      "needs_background": "light"
     },
     "output_type": "display_data"
    }
   ],
   "source": [
    "factor_distribution_plot(np.log(pure_buy_ret.replace(0, np.nan)))"
   ]
  },
  {
   "cell_type": "code",
   "execution_count": 23,
   "metadata": {},
   "outputs": [
    {
     "name": "stderr",
     "output_type": "stream",
     "text": [
      "<ipython-input-23-2b6044a344f9>:1: RuntimeWarning: invalid value encountered in log\n",
      "  np.log(pure_buy_ret.replace(0, np.nan)).to_csv(factor_path + 'pure_buy_ret_log.csv')\n"
     ]
    }
   ],
   "source": [
    "np.log(pure_buy_ret.replace(0, np.nan)).to_csv(factor_path + 'pure_buy_ret_log.csv')"
   ]
  },
  {
   "cell_type": "code",
   "execution_count": 35,
   "metadata": {},
   "outputs": [],
   "source": [
    "buy_ret_act = buy_l_order_act * ret.loc[20210101:20221231]"
   ]
  },
  {
   "cell_type": "code",
   "execution_count": 48,
   "metadata": {},
   "outputs": [],
   "source": [
    "buy_ret_act_trans2 = twist_factor(buy_ret_act)"
   ]
  },
  {
   "cell_type": "code",
   "execution_count": 51,
   "metadata": {},
   "outputs": [
    {
     "name": "stderr",
     "output_type": "stream",
     "text": [
      "<ipython-input-51-750a9f65a0bd>:1: RuntimeWarning: invalid value encountered in log\n",
      "  factor_distribution_plot(np.log(buy_ret_act_trans2.replace(0, np.nan)))\n"
     ]
    },
    {
     "data": {
      "image/png": "[encoded data removed]",
      "text/plain": [
       "<Figure size 720x432 with 1 Axes>"
      ]
     },
     "metadata": {
      "needs_background": "light"
     },
     "output_type": "display_data"
    }
   ],
   "source": [
    "factor_distribution_plot(np.log(buy_ret_act_trans2.replace(0, np.nan)))"
   ]
  },
  {
   "cell_type": "code",
   "execution_count": 52,
   "metadata": {},
   "outputs": [
    {
     "name": "stderr",
     "output_type": "stream",
     "text": [
      "<ipython-input-52-e2e1ce179145>:1: RuntimeWarning: invalid value encountered in log\n",
      "  np.log(buy_ret_act_trans2.replace(0, np.nan)).to_csv(factor_path + 'buy_ret_act_trans2_log.csv')\n"
     ]
    }
   ],
   "source": [
    "np.log(buy_ret_act_trans2.replace(0, np.nan)).to_csv(factor_path + 'buy_ret_act_trans2_log.csv')"
   ]
  },
  {
   "cell_type": "code",
   "execution_count": 46,
   "metadata": {},
   "outputs": [],
   "source": [
    "for i in [3, 5, 10]:\n",
    "    buy_ret_r_mean = buy_l_order_act * ret.loc[20210101:20221231]\n",
    "    buy_ret_r_mean = buy_ret_r_mean.rolling(i).mean()\n",
    "    buy_ret_r_mean.to_csv(factor_path + f'buy_ret_act_r{i}mean.csv')"
   ]
  },
  {
   "cell_type": "code",
   "execution_count": 53,
   "metadata": {},
   "outputs": [],
   "source": [
    "buy_per_ret = (buy_l_order / buy_l_order.shift(1)) * ret.loc[20210101:20221231]"
   ]
  },
  {
   "cell_type": "code",
   "execution_count": 55,
   "metadata": {},
   "outputs": [
    {
     "data": {
      "image/png": "[encoded data removed]",
      "text/plain": [
       "<Figure size 720x432 with 1 Axes>"
      ]
     },
     "metadata": {
      "needs_background": "light"
     },
     "output_type": "display_data"
    }
   ],
   "source": [
    "buy_per_ret = buy_per_ret.replace(np.inf, np.nan).replace(-np.inf, np.nan)\n",
    "factor_distribution_plot(buy_per_ret)"
   ]
  },
  {
   "cell_type": "code",
   "execution_count": 56,
   "metadata": {},
   "outputs": [
    {
     "name": "stderr",
     "output_type": "stream",
     "text": [
      "<ipython-input-56-6f43163821b2>:1: RuntimeWarning: invalid value encountered in log\n",
      "  buy_per_ret_log = np.log(buy_per_ret.replace(0, np.nan))\n"
     ]
    },
    {
     "data": {
      "image/png": "[encoded data removed]",
      "text/plain": [
       "<Figure size 720x432 with 1 Axes>"
      ]
     },
     "metadata": {
      "needs_background": "light"
     },
     "output_type": "display_data"
    }
   ],
   "source": [
    "buy_per_ret_log = np.log(buy_per_ret.replace(0, np.nan))\n",
    "factor_distribution_plot(buy_per_ret_log)"
   ]
  },
  {
   "cell_type": "code",
   "execution_count": 57,
   "metadata": {},
   "outputs": [],
   "source": [
    "buy_per_ret_log.to_csv(factor_path + 'buy_per_ret_log.csv')\n",
    "buy_per_ret.to_csv(factor_path + 'buy_per_ret.csv')"
   ]
  },
  {
   "cell_type": "code",
   "execution_count": null,
   "metadata": {},
   "outputs": [],
   "source": []
  }
 ],
 "metadata": {
  "kernelspec": {
   "display_name": "base",
   "language": "python",
   "name": "python3"
  },
  "language_info": {
   "codemirror_mode": {
    "name": "ipython",
    "version": 3
   },
   "file_extension": ".py",
   "mimetype": "text/x-python",
   "name": "python",
   "nbconvert_exporter": "python",
   "pygments_lexer": "ipython3",
   "version": "3.8.3"
  }
 },
 "nbformat": 4,
 "nbformat_minor": 2
}
