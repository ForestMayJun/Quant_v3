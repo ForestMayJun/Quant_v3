{
 "cells": [
  {
   "cell_type": "markdown",
   "metadata": {},
   "source": [
    "## 因子汇总"
   ]
  },
  {
   "cell_type": "markdown",
   "metadata": {
    "vscode": {
     "languageId": "plaintext"
    }
   },
   "source": [
    "### 买卖单因子"
   ]
  },
  {
   "cell_type": "markdown",
   "metadata": {},
   "source": [
    "* buy_ls_ratio_ret  \n",
    "\n",
    "$ (BuyL_i / BuyS_i) * Ret_i$  \n",
    "大小买单比率乘以收益率 某种程度上想刻画主力和散户的获利差距  \n",
    "分组清晰均匀稳定 ir=0.5"
   ]
  },
  {
   "cell_type": "markdown",
   "metadata": {},
   "source": [
    "* buy_per_ret_log  \n",
    "\n",
    "$ log(\\frac{B_i}{B_{i-1}} * Ret_i)$   "
   ]
  },
  {
   "cell_type": "markdown",
   "metadata": {},
   "source": [
    "* exce_buy_l_log  \n",
    "\n",
    "$ log((B_i - B_{i-1}\\frac{Vol_i}{Vol_{i-1}})) $  "
   ]
  },
  {
   "cell_type": "markdown",
   "metadata": {},
   "source": [
    "* netbuy_per_log_demed  \n",
    "\n",
    "$f = log(\\frac{B_i - S_i}{B_{i-1} - S_{i-1}})$  \n",
    "$f=|(f - f.median())| / f.std() $   \n",
    "减去中位数取绝对值是想改变因子的分布 下面同理"
   ]
  },
  {
   "cell_type": "markdown",
   "metadata": {},
   "source": [
    "* buy_ret_act_trans   \n",
    "\n",
    "$ f = BAct_i * Ret_i$  \n",
    "$ f = |(f-f.median())| / f.std()$"
   ]
  },
  {
   "cell_type": "markdown",
   "metadata": {},
   "source": [
    "- bsratio_morn30per_prod_log  \n",
    "\n",
    "$ bsratio = B_i / S_I$  \n",
    "$ morn30 = \\text{开盘30min成交量} / \\text{当日成交量}$  \n",
    "$ f = np.log(bsratio * morn30)$\n"
   ]
  },
  {
   "cell_type": "markdown",
   "metadata": {},
   "source": [
    "- buy_l_order_act_mktovermean  \n",
    "\n",
    "$mktovermean = 1\\; if\\; mkt_{stock} > mkt_mean \\;else\\; NaN$    \n",
    "$f = BAct * mktovermean$  \n",
    "mkt：某日的市值取对数；"
   ]
  },
  {
   "cell_type": "markdown",
   "metadata": {},
   "source": [
    "- buy_l_act_r10_mean_std_ratio  \n",
    "\n",
    "$ BuyLAct$主动买入大单量，日频，取对数，后仍记作$BuyLAct$\n",
    "$factor = BuyLAct.rolling(10).mean() / BuyLAct.rolling(10).std()$  \n",
    "或者分子直接使用BuyLAct"
   ]
  },
  {
   "cell_type": "markdown",
   "metadata": {
    "vscode": {
     "languageId": "plaintext"
    }
   },
   "source": [
    "- buy_l_order_act_demean  \n",
    "\n",
    "$factor = BuyLAct / BuyLAct.rolling(10).mean()$  \n",
    "很简单的形式但是还挺好"
   ]
  },
  {
   "cell_type": "markdown",
   "metadata": {
    "vscode": {
     "languageId": "plaintext"
    }
   },
   "source": [
    "- buy_mean_devide_std_r20  \n",
    "\n",
    "$BuyL.rolling(20).mean() / BuyL.rolling(20).std()$  \n",
    "或者把mean换成max"
   ]
  },
  {
   "cell_type": "markdown",
   "metadata": {
    "vscode": {
     "languageId": "plaintext"
    }
   },
   "source": [
    "- buy_ls_per_ratio_ret_log  \n",
    "\n"
   ]
  },
  {
   "cell_type": "markdown",
   "metadata": {},
   "source": [
    "- buy_ls_ratio_ret\n",
    "\n",
    "$(BuyL / BuyS)*Ret$"
   ]
  },
  {
   "cell_type": "markdown",
   "metadata": {},
   "source": [
    "- sell_l_ret_log  \n",
    "\n",
    "$log(SellL * Ret)$    \n",
    "小于0的值直接设为NaN,空值虽然多，但是效果挺显著，也可以直接先取对数再乘Ret,有效减少空值数，效果还不错  \n",
    "log(SellL * -Ret)效果也不错  "
   ]
  },
  {
   "cell_type": "markdown",
   "metadata": {},
   "source": [
    "- exce_buy_abs_log\n",
    "\n",
    "$ExceBuy = Buy_i - Buy_{i-1} * \\frac{Vol_i}{Vol_{i-1}}$  \n",
    "$factor = log(abs(ExceBuy))$"
   ]
  },
  {
   "cell_type": "markdown",
   "metadata": {},
   "source": [
    "- buy_sell_square_sum_r10mean  \n",
    "\n",
    "$ (BuyL^2 + Sell^2).rolling(10).sum()$"
   ]
  },
  {
   "cell_type": "markdown",
   "metadata": {},
   "source": [
    "- buy_l_s_ratio_r10mean  \n",
    "\n",
    "$ (BuyL/BuyS).rolling(10).mean()$"
   ]
  },
  {
   "cell_type": "markdown",
   "metadata": {},
   "source": [
    "- buy_vol_log_r10_ols_slope\n",
    "\n",
    "取$BuyL$和 $Vol$ rolling10日的数据，返回线性回归的斜率"
   ]
  },
  {
   "cell_type": "markdown",
   "metadata": {},
   "source": []
  },
  {
   "cell_type": "markdown",
   "metadata": {
    "vscode": {
     "languageId": "plaintext"
    }
   },
   "source": [
    "### 价量"
   ]
  },
  {
   "cell_type": "markdown",
   "metadata": {},
   "source": [
    "- vol_ret_over1std_per  \n",
    "\n",
    "分钟频数据， 每日分钟频收益率偏离1sigma的成交量占比  \n",
    "$Ret_{s,T,t}$表示单只股票s在日期T内,t分钟的收益率,用分钟的收盘价, $Vol_{s, T, t}$同理, 并记Vol_{s, T}为其向量  \n",
    "    \n",
    "将$Ret_{s,T,t}$按照分钟标准化，得到的序列仍记做$Ret_{s,T,t}$  \n",
    "I = $Ret_{s,T,t}$.apply(lambda x: 1 if abs(x) > 1 else 0)  \n",
    "$factor_{sT} = (I * Vol_{s, T}).sum() / Vol_{s, T}.sum()$向量点乘\n",
    "\n",
    "\n"
   ]
  },
  {
   "cell_type": "markdown",
   "metadata": {},
   "source": [
    "- p_log_vol_dis_std_r10mean  \n",
    "\n",
    "成交量在价格上的分布  \n",
    "stockdaily为某只股票单日分钟级价格成交量数据  \n",
    "stockdaily = stockdaily.set_index('price')['vol']  \n",
    "fa = log(stockdaily).std()"
   ]
  },
  {
   "cell_type": "markdown",
   "metadata": {
    "vscode": {
     "languageId": "plaintext"
    }
   },
   "source": [
    "- morn_afno_30_ret_r20corr  \n",
    "\n",
    "取20天的早盘30分钟的收益率和尾盘30分钟的收益率做corr"
   ]
  },
  {
   "cell_type": "markdown",
   "metadata": {
    "vscode": {
     "languageId": "plaintext"
    }
   },
   "source": [
    "- afno30_ret_cvar_neg_09_r20.csv  \n",
    "\n",
    "$Afno30Ret:$尾盘30min收益率  \n",
    "$factor = Afno30Ret.rolling(20)$中选取最小的两个值求平均"
   ]
  },
  {
   "cell_type": "markdown",
   "metadata": {},
   "source": [
    "- volmin_log_zs_skew  \n",
    "\n",
    "分钟级别的成交量数据, 取对数(记log(0)=NaN)，对单只股票做zscore之后返回偏度"
   ]
  },
  {
   "cell_type": "markdown",
   "metadata": {
    "vscode": {
     "languageId": "plaintext"
    }
   },
   "source": [
    "- volmin_log_zs_morn30_devide_tail30_mean\n",
    "\n",
    "```python\n",
    "def f(x):\n",
    "    x = ((x.T - x.mean(axis=1)) / x.std(axis=1)).T\n",
    "    return x[x > 1].mean() / (x[x<-1].mean() + 1e-5)\n",
    "volmin_log_zs_oer1std_devide_lower1std =\\\n",
    "     volmin_log.groupby(level='Date').progress_apply(lambda x: f(x))"
   ]
  },
  {
   "cell_type": "markdown",
   "metadata": {},
   "source": [
    "- below_pcloday_vol_per\n",
    "\n",
    "```python\n",
    "pret = pmin / pmin.iloc[-1]\n",
    "pret[pret > 1] = 0 #只计算低于收盘价的时刻\n",
    "volmin = np.log(volmin)\n",
    "factor = np.dot(volmin, pret) / volmin.sum()\n",
    "factor = factor.rolling(5).mean()\n",
    "\n",
    "计算在小于收盘价买入的力量"
   ]
  },
  {
   "cell_type": "markdown",
   "metadata": {},
   "source": [
    "- last10ret_last10vol_per  \n",
    "在9:30 1m_vwap上表现显著\n",
    "\n",
    "last10ret=尾盘10分钟收益率  \n",
    "last10vol_per:尾盘10分钟成交量在整天成交量的占比, 分钟成交量数据取对数  \n",
    "factor = last10ret * last10vol_per"
   ]
  },
  {
   "cell_type": "markdown",
   "metadata": {},
   "source": [
    "- volmin_fft_max10_mean_log\n",
    "分钟成交量 快速傅里叶变换 取强度前十的信号做均值,最后取对数调整分布\n",
    "\n",
    "```python\n",
    "def handle_stockly_daily(data_stock_daily:pd.Series):\n",
    "        vol = data_stock_daily['LastVolume']\n",
    "        vol = vol.iloc[:-3] #去掉尾盘竞价\n",
    "        N = 237\n",
    "        fft_res = np.fft.fft(vol)\n",
    "        fft_freq = np.fft.fftfreq(N, 1/N)\n",
    "        res = pd.Series(np.abs(fft_res)[:N//2], index=fft_freq[:N//2])\n",
    "        res = res.sort_values(ascending=False)\n",
    "\n",
    "        return res.iloc[:10].mean()"
   ]
  },
  {
   "cell_type": "markdown",
   "metadata": {},
   "source": [
    "- volmin_std_fft_over_mean1std_inv_std_ratio\n",
    "\n",
    "vol为分钟频成交量去掉前30min和最后3min  \n",
    "vol做Fourier变换后，保留振幅强度前十的信号再做逆变换得到vol_new  \n",
    "factor = vol.std() / vol_new.std()\n",
    "```python\n",
    "def handle_stockly_daily(data_stock_daily:pd.Series):\n",
    "        vol = data_stock_daily.iloc[30:-3]\n",
    "        N = len(vol)\n",
    "        vol.index = list(range(N))\n",
    "        yf = pd.Series(np.fft.fft(vol))\n",
    "        fft_freq = np.fft.fftfreq(N, 1/N)\n",
    "\n",
    "        res = pd.Series(np.abs(yf)[:N//2], index=fft_freq[:N//2])\n",
    "        res = res.sort_values(ascending=False)\n",
    "        res_drop0 = res.iloc[1:].sort_values(ascending=False)\n",
    "        idx = res_drop0.index[:10]\n",
    "\n",
    "        yf2 = pd.Series(np.zeros(len(yf)))\n",
    "        yf2.loc[idx] = yf.loc[idx]\n",
    "        vol_new = pd.Series(np.real(np.fft.ifft(yf2)))\n",
    "\n",
    "        return vol.std() / (vol_new.std() + 1e-5)\n",
    "\n",
    "return data_stock.groupby(level='Date').apply(handle_stockly_daily)"
   ]
  },
  {
   "cell_type": "markdown",
   "metadata": {},
   "source": [
    "- openret_fft_corr_logvol_r20std  \n",
    "\n",
    "后来事实证明，好像不做fft直接算结果也是一样的...  \n",
    "日内分钟频数据\n",
    "$Openret = p / p.iloc[0]$  \n",
    "$RetRft:$将openret做fft后保留振幅前十的信号，再做逆变换  \n",
    "$LogVol:$分钟级成交量取对数  \n",
    "$factor = corr(RetFft, LogVol).rolling(20).mean()$\n",
    "```python\n",
    "def handle_stockly_daily(data_stock_daily:pd.Series):\n",
    "    p = data_stock_daily['Close']\n",
    "    vol = np.log(data_stock_daily['LastVolume'].replace(0, np.nan))\n",
    "    vol.index = list(range(len(vol)))\n",
    "    ret = p / p.iloc[0]\n",
    "\n",
    "    N = len(ret)\n",
    "    ret.index = list(range(N))\n",
    "\n",
    "    yf = pd.Series(np.fft.fft(ret))\n",
    "    fft_freq = np.fft.fftfreq(N, 1/N)\n",
    "\n",
    "    res = pd.Series(np.abs(yf)[:N//2], index=fft_freq[:N//2])\n",
    "    res = res.sort_values(ascending=False)\n",
    "    num = 10\n",
    "    res_drop0 = res.iloc[1:].sort_values(ascending=False)\n",
    "    idx = res_drop0.index[:num]\n",
    "\n",
    "    yf2 = pd.Series(np.zeros(len(yf)))\n",
    "    yf2.loc[idx] = yf.loc[idx]\n",
    "    ret_new = pd.Series(np.real(np.fft.ifft(yf2)))\n",
    "\n",
    "    return ret_new.corr(vol)\n"
   ]
  },
  {
   "cell_type": "markdown",
   "metadata": {},
   "source": [
    "- min_p_vol_volfirst_win10_powersum_r20std\n",
    "\n",
    "m = array(-5, -4, ..., 3, 4)  \n",
    "res = [(vol.shift(i).corr(p)) * i  for i in m]  \n",
    "corr_powersum = res.sum()\n",
    "factor = corr_powersum.rolling(20).std()\n",
    "\n",
    "```python\n",
    "def handle_stockly(data_stock: pd.DataFrame):\n",
    "    def handle_stockly_daily(data_stock_daily:pd.Series):\n",
    "        m = 10\n",
    "        m_array = np.arange(m) - m//2\n",
    "\n",
    "        p = data_stock_daily['Close']\n",
    "        vol = np.log(data_stock_daily['LastVolume'].replace(0, np.nan))\n",
    "\n",
    "        res = 0\n",
    "        for i in m_array:\n",
    "            res += vol.shift(i).corr(p) * i\n",
    "\n",
    "        return res\n",
    "    \n",
    "    return data_stock.groupby(level='Date').apply(handle_stockly_daily)\n",
    "计算的结果再rolling(20).std()"
   ]
  },
  {
   "cell_type": "markdown",
   "metadata": {
    "vscode": {
     "languageId": "plaintext"
    }
   },
   "source": [
    "### 非对称性因子"
   ]
  }
 ],
 "metadata": {
  "kernelspec": {
   "display_name": "base",
   "language": "python",
   "name": "python3"
  },
  "language_info": {
   "codemirror_mode": {
    "name": "ipython",
    "version": 3
   },
   "file_extension": ".py",
   "mimetype": "text/x-python",
   "name": "python",
   "nbconvert_exporter": "python",
   "pygments_lexer": "ipython3",
   "version": "3.8.3"
  }
 },
 "nbformat": 4,
 "nbformat_minor": 2
}
