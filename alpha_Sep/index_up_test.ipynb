{
 "cells": [
  {
   "cell_type": "markdown",
   "metadata": {},
   "source": [
    "## 历史上指数涨幅超过3%的后续情况"
   ]
  },
  {
   "cell_type": "code",
   "execution_count": 1,
   "metadata": {},
   "outputs": [
    {
     "name": "stderr",
     "output_type": "stream",
     "text": [
      "<frozen importlib._bootstrap>:219: RuntimeWarning: numpy.ufunc size changed, may indicate binary incompatibility. Expected 192 from C header, got 216 from PyObject\n",
      "/mnt/datadisk2/aglv/anaconda3/lib/python3.8/site-packages/tqdm/std.py:668: FutureWarning: The Panel class is removed from pandas. Accessing it from the top-level namespace will also be removed in the next version\n",
      "  from pandas import Panel\n"
     ]
    }
   ],
   "source": [
    "import pandas as pd\n",
    "import numpy as np\n",
    "import matplotlib.pyplot as plt\n",
    "from tqdm.notebook import tqdm\n",
    "tqdm.pandas()"
   ]
  },
  {
   "cell_type": "code",
   "execution_count": 2,
   "metadata": {},
   "outputs": [
    {
     "data": {
      "text/html": [
       "<div>\n",
       "<style scoped>\n",
       "    .dataframe tbody tr th:only-of-type {\n",
       "        vertical-align: middle;\n",
       "    }\n",
       "\n",
       "    .dataframe tbody tr th {\n",
       "        vertical-align: top;\n",
       "    }\n",
       "\n",
       "    .dataframe thead th {\n",
       "        text-align: right;\n",
       "    }\n",
       "</style>\n",
       "<table border=\"1\" class=\"dataframe\">\n",
       "  <thead>\n",
       "    <tr style=\"text-align: right;\">\n",
       "      <th></th>\n",
       "      <th>Unnamed: 0</th>\n",
       "      <th>20050104</th>\n",
       "      <th>20050105</th>\n",
       "      <th>20050106</th>\n",
       "      <th>20050107</th>\n",
       "      <th>20050110</th>\n",
       "      <th>20050111</th>\n",
       "      <th>20050112</th>\n",
       "      <th>20050113</th>\n",
       "      <th>20050114</th>\n",
       "      <th>...</th>\n",
       "      <th>20231031</th>\n",
       "      <th>20231101</th>\n",
       "      <th>20231102</th>\n",
       "      <th>20231103</th>\n",
       "      <th>20231106</th>\n",
       "      <th>20231107</th>\n",
       "      <th>20231108</th>\n",
       "      <th>20231109</th>\n",
       "      <th>20231110</th>\n",
       "      <th>20231113</th>\n",
       "    </tr>\n",
       "  </thead>\n",
       "  <tbody>\n",
       "    <tr>\n",
       "      <th>0</th>\n",
       "      <td>905</td>\n",
       "      <td>996.682</td>\n",
       "      <td>986.570</td>\n",
       "      <td>1003.490</td>\n",
       "      <td>993.434</td>\n",
       "      <td>996.928</td>\n",
       "      <td>1006.211</td>\n",
       "      <td>1008.010</td>\n",
       "      <td>1008.098</td>\n",
       "      <td>1012.699</td>\n",
       "      <td>...</td>\n",
       "      <td>5547.3243</td>\n",
       "      <td>5534.8883</td>\n",
       "      <td>5514.5172</td>\n",
       "      <td>5462.1440</td>\n",
       "      <td>5549.2909</td>\n",
       "      <td>5594.4667</td>\n",
       "      <td>5602.9707</td>\n",
       "      <td>5602.4900</td>\n",
       "      <td>5577.3371</td>\n",
       "      <td>5589.0595</td>\n",
       "    </tr>\n",
       "    <tr>\n",
       "      <th>1</th>\n",
       "      <td>852</td>\n",
       "      <td>996.278</td>\n",
       "      <td>989.873</td>\n",
       "      <td>1014.965</td>\n",
       "      <td>1005.515</td>\n",
       "      <td>1011.925</td>\n",
       "      <td>1024.036</td>\n",
       "      <td>1026.741</td>\n",
       "      <td>1024.132</td>\n",
       "      <td>1028.990</td>\n",
       "      <td>...</td>\n",
       "      <td>6003.3650</td>\n",
       "      <td>5969.8069</td>\n",
       "      <td>5958.4770</td>\n",
       "      <td>5895.6017</td>\n",
       "      <td>6007.4341</td>\n",
       "      <td>6088.5110</td>\n",
       "      <td>6114.9873</td>\n",
       "      <td>6135.0718</td>\n",
       "      <td>6079.4732</td>\n",
       "      <td>6107.2693</td>\n",
       "    </tr>\n",
       "    <tr>\n",
       "      <th>2</th>\n",
       "      <td>300</td>\n",
       "      <td>994.769</td>\n",
       "      <td>981.577</td>\n",
       "      <td>993.331</td>\n",
       "      <td>983.045</td>\n",
       "      <td>983.760</td>\n",
       "      <td>994.189</td>\n",
       "      <td>996.651</td>\n",
       "      <td>996.078</td>\n",
       "      <td>996.617</td>\n",
       "      <td>...</td>\n",
       "      <td>3581.6759</td>\n",
       "      <td>3605.7576</td>\n",
       "      <td>3580.0672</td>\n",
       "      <td>3558.5303</td>\n",
       "      <td>3608.3187</td>\n",
       "      <td>3623.7849</td>\n",
       "      <td>3610.6434</td>\n",
       "      <td>3603.1082</td>\n",
       "      <td>3596.0688</td>\n",
       "      <td>3593.9109</td>\n",
       "    </tr>\n",
       "    <tr>\n",
       "      <th>3</th>\n",
       "      <td>16</td>\n",
       "      <td>836.988</td>\n",
       "      <td>825.707</td>\n",
       "      <td>831.989</td>\n",
       "      <td>822.669</td>\n",
       "      <td>823.766</td>\n",
       "      <td>833.209</td>\n",
       "      <td>837.357</td>\n",
       "      <td>836.170</td>\n",
       "      <td>834.354</td>\n",
       "      <td>...</td>\n",
       "      <td>2409.8949</td>\n",
       "      <td>2456.3813</td>\n",
       "      <td>2429.7186</td>\n",
       "      <td>2419.6868</td>\n",
       "      <td>2452.8399</td>\n",
       "      <td>2450.2667</td>\n",
       "      <td>2436.8736</td>\n",
       "      <td>2428.5080</td>\n",
       "      <td>2424.4922</td>\n",
       "      <td>2415.9565</td>\n",
       "    </tr>\n",
       "  </tbody>\n",
       "</table>\n",
       "<p>4 rows × 4583 columns</p>\n",
       "</div>"
      ],
      "text/plain": [
       "   Unnamed: 0  20050104  20050105  20050106  20050107  20050110  20050111  \\\n",
       "0         905   996.682   986.570  1003.490   993.434   996.928  1006.211   \n",
       "1         852   996.278   989.873  1014.965  1005.515  1011.925  1024.036   \n",
       "2         300   994.769   981.577   993.331   983.045   983.760   994.189   \n",
       "3          16   836.988   825.707   831.989   822.669   823.766   833.209   \n",
       "\n",
       "   20050112  20050113  20050114  ...   20231031   20231101   20231102  \\\n",
       "0  1008.010  1008.098  1012.699  ...  5547.3243  5534.8883  5514.5172   \n",
       "1  1026.741  1024.132  1028.990  ...  6003.3650  5969.8069  5958.4770   \n",
       "2   996.651   996.078   996.617  ...  3581.6759  3605.7576  3580.0672   \n",
       "3   837.357   836.170   834.354  ...  2409.8949  2456.3813  2429.7186   \n",
       "\n",
       "    20231103   20231106   20231107   20231108   20231109   20231110   20231113  \n",
       "0  5462.1440  5549.2909  5594.4667  5602.9707  5602.4900  5577.3371  5589.0595  \n",
       "1  5895.6017  6007.4341  6088.5110  6114.9873  6135.0718  6079.4732  6107.2693  \n",
       "2  3558.5303  3608.3187  3623.7849  3610.6434  3603.1082  3596.0688  3593.9109  \n",
       "3  2419.6868  2452.8399  2450.2667  2436.8736  2428.5080  2424.4922  2415.9565  \n",
       "\n",
       "[4 rows x 4583 columns]"
      ]
     },
     "execution_count": 2,
     "metadata": {},
     "output_type": "execute_result"
    }
   ],
   "source": [
    "index = pd.read_csv('/mnt/datadisk2/aglv/aglv/lab_aglv/index_data/open.csv')\n",
    "index"
   ]
  },
  {
   "cell_type": "code",
   "execution_count": 14,
   "metadata": {},
   "outputs": [],
   "source": [
    "hs300 = index.iloc[2, 1:]\n",
    "\n",
    "hs300.index = [str(i) for i in hs300.index]\n",
    "hs300.index.names = ['date']\n"
   ]
  },
  {
   "cell_type": "code",
   "execution_count": 26,
   "metadata": {},
   "outputs": [],
   "source": [
    "hs300 = hs300.loc['20100101':]"
   ]
  },
  {
   "cell_type": "code",
   "execution_count": 27,
   "metadata": {},
   "outputs": [
    {
     "data": {
      "text/plain": [
       "<matplotlib.axes._subplots.AxesSubplot at 0x73c1a8a66760>"
      ]
     },
     "execution_count": 27,
     "metadata": {},
     "output_type": "execute_result"
    },
    {
     "data": {
      "image/png": "[encoded data removed]",
      "text/plain": [
       "<Figure size 432x288 with 1 Axes>"
      ]
     },
     "metadata": {
      "needs_background": "light"
     },
     "output_type": "display_data"
    }
   ],
   "source": [
    "hs300.plot()"
   ]
  },
  {
   "cell_type": "code",
   "execution_count": 44,
   "metadata": {},
   "outputs": [],
   "source": [
    "hs300_ret = hs300 / hs300.shift(1) -1\n",
    "date_up = hs300[hs300_ret > 0.03].index"
   ]
  },
  {
   "cell_type": "code",
   "execution_count": 51,
   "metadata": {},
   "outputs": [
    {
     "data": {
      "text/plain": [
       "0.045454545454545456"
      ]
     },
     "execution_count": 51,
     "metadata": {},
     "output_type": "execute_result"
    }
   ],
   "source": [
    "is_up = []\n",
    "for date in date_up:\n",
    "    date_id = hs300.index.get_loc(date)\n",
    "    is_up.append(int(np.where(hs300[date_id + 8]/hs300[date_id] > 1, 1, -1)))\n",
    "np.mean(is_up)\n",
    "    "
   ]
  },
  {
   "cell_type": "code",
   "execution_count": 52,
   "metadata": {},
   "outputs": [],
   "source": [
    "# for date in date_up:\n",
    "#     date_id = hs300.index.get_loc(date)\n",
    "    \n",
    "#     plt.plot(hs300.iloc[date_id - 2 : date_id + 3])\n",
    "#     plt.show()"
   ]
  },
  {
   "cell_type": "code",
   "execution_count": 92,
   "metadata": {},
   "outputs": [],
   "source": [
    "def factors_corr(factor_folder):\n",
    "    import glob, os\n",
    "    import seaborn as sns\n",
    "\n",
    "    csv_path = glob.glob(os.path.join(factor_folder, '*.csv'))\n",
    "    # new_path = []\n",
    "    # for p in csv_path:\n",
    "    #     f_name = p.split('/')[-1][:-4]\n",
    "    #     if 'relu' in f_name:\n",
    "    #         new_path.append(p)\n",
    "    \n",
    "    # new_path = new_path[:8]\n",
    "    new_path = csv_path.copy()\n",
    "\n",
    "    dfs = [pd.read_csv(f) for f in new_path]\n",
    "    for df in dfs:\n",
    "        if 'date' in df.columns:\n",
    "            df = df.set_index('date')\n",
    "        elif 'Date' in df.columns:\n",
    "            df = df.set_index('Date')\n",
    "\n",
    "    num = len(dfs)\n",
    "    print(num)\n",
    "\n",
    "    corrs = pd.DataFrame(index=range(num), columns=range(num))\n",
    "    for i in range(num):\n",
    "        print(i, new_path[i].split('/')[-1][:-4])\n",
    "        for j in range(num):\n",
    "            if j < i:\n",
    "                corrs.iloc[i, j] = corrs.iloc[j ,i]\n",
    "            elif j == i:\n",
    "                corrs.iloc[i, j] = 1\n",
    "            else:\n",
    "                corrs.iloc[i, j] = dfs[i].corrwith(dfs[j]).mean()\n",
    "    \n",
    "    plt.figure(figsize=(8, 6))\n",
    "    sns.heatmap(corrs.astype(float), annot=True, cmap='Greens', fmt=\".2f\")\n",
    "    plt.title('Correlation with Means Heatmap')\n",
    "    plt.show()"
   ]
  },
  {
   "cell_type": "code",
   "execution_count": 93,
   "metadata": {},
   "outputs": [
    {
     "name": "stdout",
     "output_type": "stream",
     "text": [
      "5\n",
      "0 relu_nightret_r15mean_vol_zs_corr_r15\n",
      "1 relu_nightret_r5mean_vol_zs_dot_r15\n",
      "2 relu_indayret_r15sum_vol_zs_dot_r15\n",
      "3 price_vol_weight_corr_v2_ret0_r15_day\n",
      "4 turnstd_agg5min_noavg_21_23_min\n"
     ]
    },
    {
     "data": {
      "image/png": "[encoded data removed]",
      "text/plain": [
       "<Figure size 576x432 with 2 Axes>"
      ]
     },
     "metadata": {
      "needs_background": "light"
     },
     "output_type": "display_data"
    }
   ],
   "source": [
    "factors_corr('/mnt/datadisk2/aglv/aglv/lab_aglv/aglv_factor/Sep_bertter')"
   ]
  },
  {
   "cell_type": "code",
   "execution_count": 94,
   "metadata": {},
   "outputs": [],
   "source": [
    "turn_std_agg5 = pd.read_csv('/mnt/datadisk2/aglv/aglv/lab_aglv/aglv_factor/Sep_bertter/turnstd_agg5min_noavg_21_23_min.csv')\n"
   ]
  },
  {
   "cell_type": "code",
   "execution_count": 95,
   "metadata": {},
   "outputs": [],
   "source": [
    "def check_extrme_factor(factor:pd.DataFrame, date, rolling_day=10, is_large=True, check_num=10, check_period=5):\n",
    "    '''\n",
    "    检测某天的极端因子值的股票表现\n",
    "    因子值按照向前rolling 10天的平均值进行排序 绘图显示前后5天的股票表现, 在jupyter中检测\n",
    "    需要用到datadaily类获取日频价格数据\n",
    "    '''\n",
    "\n",
    "    if 'date' in factor.columns:\n",
    "        factor = factor.set_index('date')\n",
    "    elif 'Date' in factor.columns:\n",
    "        factor = factor.set_index('Date')\n",
    "\n",
    "    if date not in factor.index:\n",
    "        raise ValueError('日期为非交易日')\n",
    "\n",
    "    factor = factor.rolling(10).mean()\n",
    "    factor_date = factor.loc[date]\n",
    "    factor_date_sorted = factor_date.sort_values().dropna()\n",
    "\n",
    "    if is_large:\n",
    "        check_stock = factor_date_sorted.iloc[-check_num:].index\n",
    "    else:\n",
    "        check_stock = factor_date_sorted.iloc[:check_num].index\n",
    "    \n",
    "    close = datadaily.adjclose\n",
    "    for stock in check_stock:\n",
    "        date_id = close.index.get_loc(date)\n",
    "        p_date = close.iloc[date_id-check_period:date_id+check_period+1, :].loc[:, stock]\n",
    "        p_date.index = [str(i) for i in p_date.index]\n",
    "\n",
    "        plt.plot(p_date)\n",
    "        plt.title(stock)\n",
    "        plt.show()"
   ]
  },
  {
   "cell_type": "code",
   "execution_count": null,
   "metadata": {},
   "outputs": [],
   "source": []
  }
 ],
 "metadata": {
  "kernelspec": {
   "display_name": "base",
   "language": "python",
   "name": "python3"
  },
  "language_info": {
   "codemirror_mode": {
    "name": "ipython",
    "version": 3
   },
   "file_extension": ".py",
   "mimetype": "text/x-python",
   "name": "python",
   "nbconvert_exporter": "python",
   "pygments_lexer": "ipython3",
   "version": "3.8.3"
  }
 },
 "nbformat": 4,
 "nbformat_minor": 2
}
