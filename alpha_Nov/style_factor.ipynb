{
 "cells": [
  {
   "cell_type": "markdown",
   "metadata": {},
   "source": [
    "## 计算一些风格因子"
   ]
  },
  {
   "cell_type": "code",
   "execution_count": 1,
   "metadata": {},
   "outputs": [
    {
     "name": "stderr",
     "output_type": "stream",
     "text": [
      "/mnt/datadisk2/aglv/anaconda3/lib/python3.8/site-packages/tqdm/std.py:668: FutureWarning: The Panel class is removed from pandas. Accessing it from the top-level namespace will also be removed in the next version\n",
      "  from pandas import Panel\n"
     ]
    }
   ],
   "source": [
    "import pandas as pd\n",
    "import numpy as np\n",
    "from tqdm.notebook import tqdm\n",
    "tqdm.pandas()\n",
    "import matplotlib.pyplot as plt"
   ]
  },
  {
   "cell_type": "code",
   "execution_count": 2,
   "metadata": {},
   "outputs": [
    {
     "name": "stdout",
     "output_type": "stream",
     "text": [
      "/mnt/datadisk2/aglv/aglv/lab_aglv/forintern\n"
     ]
    }
   ],
   "source": [
    "cd /mnt/datadisk2/aglv/aglv/lab_aglv/forintern/"
   ]
  },
  {
   "cell_type": "code",
   "execution_count": 69,
   "metadata": {},
   "outputs": [],
   "source": [
    "path = '/mnt/datadisk2/aglv/aglv/aglv_factor/style_factor/'"
   ]
  },
  {
   "cell_type": "code",
   "execution_count": 4,
   "metadata": {},
   "outputs": [
    {
     "name": "stdout",
     "output_type": "stream",
     "text": [
      "load ./data_daily.h5...\n"
     ]
    }
   ],
   "source": [
    "from DataDaily import DataDaily\n",
    "datadaily = DataDaily()"
   ]
  },
  {
   "cell_type": "code",
   "execution_count": 44,
   "metadata": {},
   "outputs": [],
   "source": [
    "close = datadaily.adjclose.loc[:20231231]\n",
    "vol = datadaily.volume.loc[:20231231]\n",
    "ret = (close - close.shift(1)) / close.shift(1)\n",
    "momentum20 = (close - close.shift(20)) / close.shift(20)"
   ]
  },
  {
   "cell_type": "code",
   "execution_count": 20,
   "metadata": {},
   "outputs": [],
   "source": [
    "momentum20.to_csv(path + 'momentum20.csv')"
   ]
  },
  {
   "cell_type": "code",
   "execution_count": 7,
   "metadata": {},
   "outputs": [],
   "source": [
    "mkt_cap = np.log(datadaily.mkt_cap)"
   ]
  },
  {
   "cell_type": "code",
   "execution_count": 11,
   "metadata": {},
   "outputs": [],
   "source": [
    "from sklearn.linear_model import LinearRegression\n",
    "import matplotlib.pyplot as plt\n",
    "import statsmodels.api as sm"
   ]
  },
  {
   "cell_type": "code",
   "execution_count": 27,
   "metadata": {},
   "outputs": [],
   "source": [
    "x = np.random.rand(100, 2)\n",
    "y = 2 * x[:, 0] + 3*x[:, 1] + 5 + np.random.rand(100) * 1\n",
    "x = sm.add_constant(x)\n",
    "model = sm.OLS(y, x)\n",
    "res = model.fit()\n"
   ]
  },
  {
   "cell_type": "code",
   "execution_count": 28,
   "metadata": {},
   "outputs": [
    {
     "data": {
      "text/html": [
       "<table class=\"simpletable\">\n",
       "<caption>OLS Regression Results</caption>\n",
       "<tr>\n",
       "  <th>Dep. Variable:</th>            <td>y</td>        <th>  R-squared:         </th> <td>   0.926</td>\n",
       "</tr>\n",
       "<tr>\n",
       "  <th>Model:</th>                   <td>OLS</td>       <th>  Adj. R-squared:    </th> <td>   0.924</td>\n",
       "</tr>\n",
       "<tr>\n",
       "  <th>Method:</th>             <td>Least Squares</td>  <th>  F-statistic:       </th> <td>   605.2</td>\n",
       "</tr>\n",
       "<tr>\n",
       "  <th>Date:</th>             <td>Wed, 13 Nov 2024</td> <th>  Prob (F-statistic):</th> <td>1.63e-55</td>\n",
       "</tr>\n",
       "<tr>\n",
       "  <th>Time:</th>                 <td>13:49:45</td>     <th>  Log-Likelihood:    </th> <td> -17.496</td>\n",
       "</tr>\n",
       "<tr>\n",
       "  <th>No. Observations:</th>      <td>   100</td>      <th>  AIC:               </th> <td>   40.99</td>\n",
       "</tr>\n",
       "<tr>\n",
       "  <th>Df Residuals:</th>          <td>    97</td>      <th>  BIC:               </th> <td>   48.81</td>\n",
       "</tr>\n",
       "<tr>\n",
       "  <th>Df Model:</th>              <td>     2</td>      <th>                     </th>     <td> </td>   \n",
       "</tr>\n",
       "<tr>\n",
       "  <th>Covariance Type:</th>      <td>nonrobust</td>    <th>                     </th>     <td> </td>   \n",
       "</tr>\n",
       "</table>\n",
       "<table class=\"simpletable\">\n",
       "<tr>\n",
       "    <td></td>       <th>coef</th>     <th>std err</th>      <th>t</th>      <th>P>|t|</th>  <th>[0.025</th>    <th>0.975]</th>  \n",
       "</tr>\n",
       "<tr>\n",
       "  <th>const</th> <td>    5.4877</td> <td>    0.079</td> <td>   69.614</td> <td> 0.000</td> <td>    5.331</td> <td>    5.644</td>\n",
       "</tr>\n",
       "<tr>\n",
       "  <th>x1</th>    <td>    2.1113</td> <td>    0.100</td> <td>   21.192</td> <td> 0.000</td> <td>    1.914</td> <td>    2.309</td>\n",
       "</tr>\n",
       "<tr>\n",
       "  <th>x2</th>    <td>    2.9139</td> <td>    0.100</td> <td>   29.188</td> <td> 0.000</td> <td>    2.716</td> <td>    3.112</td>\n",
       "</tr>\n",
       "</table>\n",
       "<table class=\"simpletable\">\n",
       "<tr>\n",
       "  <th>Omnibus:</th>       <td>31.060</td> <th>  Durbin-Watson:     </th> <td>   2.129</td>\n",
       "</tr>\n",
       "<tr>\n",
       "  <th>Prob(Omnibus):</th> <td> 0.000</td> <th>  Jarque-Bera (JB):  </th> <td>   6.019</td>\n",
       "</tr>\n",
       "<tr>\n",
       "  <th>Skew:</th>          <td> 0.110</td> <th>  Prob(JB):          </th> <td>  0.0493</td>\n",
       "</tr>\n",
       "<tr>\n",
       "  <th>Kurtosis:</th>      <td> 1.819</td> <th>  Cond. No.          </th> <td>    5.40</td>\n",
       "</tr>\n",
       "</table><br/><br/>Warnings:<br/>[1] Standard Errors assume that the covariance matrix of the errors is correctly specified."
      ],
      "text/plain": [
       "<class 'statsmodels.iolib.summary.Summary'>\n",
       "\"\"\"\n",
       "                            OLS Regression Results                            \n",
       "==============================================================================\n",
       "Dep. Variable:                      y   R-squared:                       0.926\n",
       "Model:                            OLS   Adj. R-squared:                  0.924\n",
       "Method:                 Least Squares   F-statistic:                     605.2\n",
       "Date:                Wed, 13 Nov 2024   Prob (F-statistic):           1.63e-55\n",
       "Time:                        13:49:45   Log-Likelihood:                -17.496\n",
       "No. Observations:                 100   AIC:                             40.99\n",
       "Df Residuals:                      97   BIC:                             48.81\n",
       "Df Model:                           2                                         \n",
       "Covariance Type:            nonrobust                                         \n",
       "==============================================================================\n",
       "                 coef    std err          t      P>|t|      [0.025      0.975]\n",
       "------------------------------------------------------------------------------\n",
       "const          5.4877      0.079     69.614      0.000       5.331       5.644\n",
       "x1             2.1113      0.100     21.192      0.000       1.914       2.309\n",
       "x2             2.9139      0.100     29.188      0.000       2.716       3.112\n",
       "==============================================================================\n",
       "Omnibus:                       31.060   Durbin-Watson:                   2.129\n",
       "Prob(Omnibus):                  0.000   Jarque-Bera (JB):                6.019\n",
       "Skew:                           0.110   Prob(JB):                       0.0493\n",
       "Kurtosis:                       1.819   Cond. No.                         5.40\n",
       "==============================================================================\n",
       "\n",
       "Warnings:\n",
       "[1] Standard Errors assume that the covariance matrix of the errors is correctly specified.\n",
       "\"\"\""
      ]
     },
     "execution_count": 28,
     "metadata": {},
     "output_type": "execute_result"
    }
   ],
   "source": [
    "res.summary()"
   ]
  },
  {
   "cell_type": "code",
   "execution_count": 29,
   "metadata": {},
   "outputs": [
    {
     "data": {
      "text/plain": [
       "array([ 0.46263661, -0.12537014, -0.32473174,  0.26415255,  0.18089807,\n",
       "       -0.05901024,  0.01553827,  0.22898024, -0.32110101,  0.48185187,\n",
       "        0.532966  ,  0.13053957, -0.308182  ,  0.18571963, -0.43460075,\n",
       "       -0.46112659, -0.17188909, -0.11959881,  0.29974598,  0.26613656,\n",
       "        0.3074806 , -0.11114956, -0.11781428, -0.10088823,  0.45197597,\n",
       "       -0.47169264,  0.30173535,  0.05285236, -0.12683874,  0.24735346,\n",
       "        0.06818849,  0.31498866,  0.44042777, -0.02340835, -0.19595398,\n",
       "        0.17453123,  0.39970865, -0.34928613,  0.05297975,  0.1692079 ,\n",
       "        0.25731585, -0.39381556,  0.28346271,  0.41272583, -0.25785462,\n",
       "       -0.308373  ,  0.53305695, -0.35606363,  0.27385659,  0.03765342,\n",
       "       -0.23225029,  0.36237413, -0.11667707, -0.05260524, -0.14953986,\n",
       "        0.06442646, -0.37965264, -0.18840828,  0.45187428, -0.24266623,\n",
       "        0.13822614, -0.17435626,  0.23635814, -0.40404216,  0.47980055,\n",
       "       -0.07318867, -0.23169072, -0.37130014, -0.27926577,  0.03668233,\n",
       "       -0.14579864,  0.338782  , -0.09850688, -0.24231664,  0.04605029,\n",
       "        0.17460664, -0.26270729, -0.29303833, -0.45938221,  0.18723625,\n",
       "        0.18430056,  0.00728988,  0.35949528,  0.28518999,  0.09381282,\n",
       "        0.30868686, -0.29153591, -0.38582188, -0.14092791, -0.38984953,\n",
       "        0.03950593,  0.43842322, -0.41603249, -0.29752951, -0.02612045,\n",
       "        0.45120265, -0.16718301,  0.01560327, -0.4599303 , -0.41752119])"
      ]
     },
     "execution_count": 29,
     "metadata": {},
     "output_type": "execute_result"
    }
   ],
   "source": [
    "res.resid"
   ]
  },
  {
   "cell_type": "code",
   "execution_count": 51,
   "metadata": {},
   "outputs": [
    {
     "data": {
      "text/plain": [
       "InstrumentID  date    \n",
       "BJ430017      20171009   NaN\n",
       "              20171010   NaN\n",
       "              20171011   NaN\n",
       "              20171012   NaN\n",
       "              20171013   NaN\n",
       "                          ..\n",
       "SZ301633      20231225   NaN\n",
       "              20231226   NaN\n",
       "              20231227   NaN\n",
       "              20231228   NaN\n",
       "              20231229   NaN\n",
       "Length: 8549812, dtype: float64"
      ]
     },
     "execution_count": 51,
     "metadata": {},
     "output_type": "execute_result"
    }
   ],
   "source": []
  },
  {
   "cell_type": "code",
   "execution_count": 54,
   "metadata": {},
   "outputs": [],
   "source": [
    "ret_stack = ret.loc[20210101:20231231].unstack()\n",
    "momentum20_stack = momentum20.loc[20210101:20231231].unstack()"
   ]
  },
  {
   "cell_type": "code",
   "execution_count": 55,
   "metadata": {},
   "outputs": [
    {
     "data": {
      "text/html": [
       "<div>\n",
       "<style scoped>\n",
       "    .dataframe tbody tr th:only-of-type {\n",
       "        vertical-align: middle;\n",
       "    }\n",
       "\n",
       "    .dataframe tbody tr th {\n",
       "        vertical-align: top;\n",
       "    }\n",
       "\n",
       "    .dataframe thead th {\n",
       "        text-align: right;\n",
       "    }\n",
       "</style>\n",
       "<table border=\"1\" class=\"dataframe\">\n",
       "  <thead>\n",
       "    <tr style=\"text-align: right;\">\n",
       "      <th></th>\n",
       "      <th></th>\n",
       "      <th>0</th>\n",
       "      <th>1</th>\n",
       "    </tr>\n",
       "    <tr>\n",
       "      <th>InstrumentID</th>\n",
       "      <th>date</th>\n",
       "      <th></th>\n",
       "      <th></th>\n",
       "    </tr>\n",
       "  </thead>\n",
       "  <tbody>\n",
       "    <tr>\n",
       "      <th rowspan=\"5\" valign=\"top\">BJ430017</th>\n",
       "      <th>20210104</th>\n",
       "      <td>NaN</td>\n",
       "      <td>NaN</td>\n",
       "    </tr>\n",
       "    <tr>\n",
       "      <th>20210105</th>\n",
       "      <td>NaN</td>\n",
       "      <td>NaN</td>\n",
       "    </tr>\n",
       "    <tr>\n",
       "      <th>20210106</th>\n",
       "      <td>NaN</td>\n",
       "      <td>NaN</td>\n",
       "    </tr>\n",
       "    <tr>\n",
       "      <th>20210107</th>\n",
       "      <td>NaN</td>\n",
       "      <td>NaN</td>\n",
       "    </tr>\n",
       "    <tr>\n",
       "      <th>20210108</th>\n",
       "      <td>NaN</td>\n",
       "      <td>NaN</td>\n",
       "    </tr>\n",
       "    <tr>\n",
       "      <th>...</th>\n",
       "      <th>...</th>\n",
       "      <td>...</td>\n",
       "      <td>...</td>\n",
       "    </tr>\n",
       "    <tr>\n",
       "      <th rowspan=\"5\" valign=\"top\">SZ301633</th>\n",
       "      <th>20231225</th>\n",
       "      <td>NaN</td>\n",
       "      <td>NaN</td>\n",
       "    </tr>\n",
       "    <tr>\n",
       "      <th>20231226</th>\n",
       "      <td>NaN</td>\n",
       "      <td>NaN</td>\n",
       "    </tr>\n",
       "    <tr>\n",
       "      <th>20231227</th>\n",
       "      <td>NaN</td>\n",
       "      <td>NaN</td>\n",
       "    </tr>\n",
       "    <tr>\n",
       "      <th>20231228</th>\n",
       "      <td>NaN</td>\n",
       "      <td>NaN</td>\n",
       "    </tr>\n",
       "    <tr>\n",
       "      <th>20231229</th>\n",
       "      <td>NaN</td>\n",
       "      <td>NaN</td>\n",
       "    </tr>\n",
       "  </tbody>\n",
       "</table>\n",
       "<p>4097372 rows × 2 columns</p>\n",
       "</div>"
      ],
      "text/plain": [
       "                        0   1\n",
       "InstrumentID date            \n",
       "BJ430017     20210104 NaN NaN\n",
       "             20210105 NaN NaN\n",
       "             20210106 NaN NaN\n",
       "             20210107 NaN NaN\n",
       "             20210108 NaN NaN\n",
       "...                    ..  ..\n",
       "SZ301633     20231225 NaN NaN\n",
       "             20231226 NaN NaN\n",
       "             20231227 NaN NaN\n",
       "             20231228 NaN NaN\n",
       "             20231229 NaN NaN\n",
       "\n",
       "[4097372 rows x 2 columns]"
      ]
     },
     "execution_count": 55,
     "metadata": {},
     "output_type": "execute_result"
    }
   ],
   "source": [
    "ret_mon20 = pd.concat([ret_stack, momentum20_stack], axis=1)\n",
    "ret_mon20"
   ]
  },
  {
   "cell_type": "code",
   "execution_count": 58,
   "metadata": {},
   "outputs": [],
   "source": [
    "def f(x, y):\n",
    "    if x.isna().sum() + y.isna().sum() == 0:\n",
    "        x = sm.add_constant(x)\n",
    "        model = sm.OLS(y, x)\n",
    "        res = model.fit()\n",
    "        return res.resid[-1]\n",
    "    else:\n",
    "        return np.nan"
   ]
  },
  {
   "cell_type": "code",
   "execution_count": 60,
   "metadata": {},
   "outputs": [],
   "source": [
    "# res = (ret_mon20\n",
    "#        .groupby(level='InstrumentID')\n",
    "#        .progress_apply(lambda x: x.iloc[:, 0].rolling(20).apply(lambda y:f(x.iloc[:, 1].loc[y.index], y)))\n",
    "#     )"
   ]
  },
  {
   "cell_type": "code",
   "execution_count": 64,
   "metadata": {},
   "outputs": [],
   "source": [
    "import multiprocessing\n",
    "import statsmodels.api as sm\n",
    "shift_day = 0\n",
    "r_win = 20\n",
    "n_processing = 64\n",
    "\n",
    "def _handle_stockly(data_stock: pd.DataFrame, r_win=r_win):\n",
    "    def f(x, y):\n",
    "        if x.isna().sum() + y.isna().sum() == 0:\n",
    "            x = sm.add_constant(x)\n",
    "            model = sm.OLS(y, x)\n",
    "            res = model.fit()\n",
    "            return res.resid[-1]\n",
    "        else:\n",
    "            return np.nan\n",
    "\n",
    "    return data_stock.iloc[:, 0].rolling(r_win).apply(lambda x:f(x, data_stock.iloc[:, 1].loc[x.index]))\n",
    "\n",
    "def process_group(group, r_win=15):\n",
    "    instrument_id, group_data = group\n",
    "    return (instrument_id, _handle_stockly(group_data, r_win))\n",
    "\n",
    "def multiprocessing_factor(data: pd.DataFrame, n_processes=n_processing):\n",
    "    grouped = list(data.groupby(level='InstrumentID'))\n",
    "    with multiprocessing.Pool(processes=n_processes) as pool:\n",
    "        results = list(tqdm(\n",
    "            pool.imap(process_group, grouped), total=len(grouped)\n",
    "        ))\n",
    "\n",
    "    factor_list = []\n",
    "    for instrument_id, factor in results:\n",
    "        factor_df = pd.DataFrame(\n",
    "            factor.values,\n",
    "            index=factor.index.get_level_values('date'), \n",
    "            columns=[factor.index[0][0]]\n",
    "        )\n",
    "        factor_list.append(factor_df)\n",
    "\n",
    "    factor = pd.concat(factor_list, axis=1)\n",
    "\n",
    "    return factor"
   ]
  },
  {
   "cell_type": "code",
   "execution_count": 65,
   "metadata": {},
   "outputs": [
    {
     "data": {
      "application/vnd.jupyter.widget-view+json": {
       "model_id": "aefc5bcc85fa44c0829ee541b6c1e741",
       "version_major": 2,
       "version_minor": 0
      },
      "text/plain": [
       "HBox(children=(FloatProgress(value=0.0, max=5636.0), HTML(value='')))"
      ]
     },
     "metadata": {},
     "output_type": "display_data"
    },
    {
     "name": "stdout",
     "output_type": "stream",
     "text": [
      "\n"
     ]
    }
   ],
   "source": [
    "FA = multiprocessing_factor(ret_mon20)"
   ]
  },
  {
   "cell_type": "code",
   "execution_count": 68,
   "metadata": {},
   "outputs": [
    {
     "data": {
      "text/plain": [
       "date\n",
       "20210104    5636\n",
       "20210105    5636\n",
       "20210106    5636\n",
       "20210107    5636\n",
       "20210108    5636\n",
       "            ... \n",
       "20231225     370\n",
       "20231226     372\n",
       "20231227     371\n",
       "20231228     373\n",
       "20231229     370\n",
       "Length: 727, dtype: int64"
      ]
     },
     "execution_count": 68,
     "metadata": {},
     "output_type": "execute_result"
    }
   ],
   "source": [
    "FA.isna().sum(axis=1)"
   ]
  },
  {
   "cell_type": "code",
   "execution_count": 70,
   "metadata": {},
   "outputs": [],
   "source": [
    "FA.to_csv(path + 'ret_mon20_olsresid.csv')"
   ]
  },
  {
   "cell_type": "code",
   "execution_count": null,
   "metadata": {},
   "outputs": [],
   "source": [
    "def ols_resid(fa1:pd.DataFrame, fa2:pd.DataFrame):\n",
    "    import statsmodels.api as sm\n",
    "\n",
    "    u = set(fa1.columns).intersection(set(fa2.columns))\n",
    "    fa1 = fa1.loc[:, u].unstack().stack(level='InstrumentID').stack(level='date')\n",
    "    fa2 = fa2.loc[:, u].unstack().stack(level='InstrumentID').stack(level='date')\n",
    "\n",
    "    def _ols_resid(x, y):\n",
    "        if x.isna().sum() + y.isna().sum() == 0:\n",
    "            x = sm.add_constant(x)\n",
    "            model = sm.OLS(y, x)\n",
    "            res = model.fit()\n",
    "            return res.resid[-1]\n",
    "        else:\n",
    "            return np.nan"
   ]
  }
 ],
 "metadata": {
  "kernelspec": {
   "display_name": "base",
   "language": "python",
   "name": "python3"
  },
  "language_info": {
   "codemirror_mode": {
    "name": "ipython",
    "version": 3
   },
   "file_extension": ".py",
   "mimetype": "text/x-python",
   "name": "python",
   "nbconvert_exporter": "python",
   "pygments_lexer": "ipython3",
   "version": "3.8.3"
  }
 },
 "nbformat": 4,
 "nbformat_minor": 2
}
